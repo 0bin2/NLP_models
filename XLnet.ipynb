{
  "nbformat": 4,
  "nbformat_minor": 0,
  "metadata": {
    "colab": {
      "name": "XL_net",
      "provenance": [],
      "collapsed_sections": [],
      "authorship_tag": "ABX9TyNXVfXNGH7M8KZpIV7z2STF",
      "include_colab_link": true
    },
    "kernelspec": {
      "name": "python3",
      "display_name": "Python 3"
    }
  },
  "cells": [
    {
      "cell_type": "markdown",
      "metadata": {
        "id": "view-in-github",
        "colab_type": "text"
      },
      "source": [
        "<a href=\"https://colab.research.google.com/github/kingbingodbin/NLP_models/blob/main/XLnet.ipynb\" target=\"_parent\"><img src=\"https://colab.research.google.com/assets/colab-badge.svg\" alt=\"Open In Colab\"/></a>"
      ]
    },
    {
      "cell_type": "code",
      "metadata": {
        "id": "0FBg14N-WRqy"
      },
      "source": [
        "import numpy as np\n",
        "import torch\n",
        "import torch.nn as nn\n",
        "import torch.nn.functional as F\n",
        "import torch.optim as optim\n",
        "import torch.utils.data as data_utils\n",
        "from torchtext.data.utils import get_tokenizer\n",
        "from torchtext.data import Field\n",
        "import pandas as pd\n",
        "import os"
      ],
      "execution_count": 1,
      "outputs": []
    },
    {
      "cell_type": "code",
      "metadata": {
        "id": "aTeEn1OvuFKG"
      },
      "source": [
        "import torchtext\n",
        "import io"
      ],
      "execution_count": 2,
      "outputs": []
    },
    {
      "cell_type": "code",
      "metadata": {
        "id": "ZXsNFpb_2nUE",
        "outputId": "af47f8da-74be-4fe0-cd1f-2b9ee926fd7f",
        "colab": {
          "base_uri": "https://localhost:8080/"
        }
      },
      "source": [
        "from google.colab import drive\n",
        "drive.mount(\"/content/drive\")"
      ],
      "execution_count": 3,
      "outputs": [
        {
          "output_type": "stream",
          "text": [
            "Mounted at /content/drive\n"
          ],
          "name": "stdout"
        }
      ]
    },
    {
      "cell_type": "code",
      "metadata": {
        "id": "36z8vshT7jVN"
      },
      "source": [
        "import os\n",
        "#os.listdir('drive/My Drive/datasets/wikitext-2')"
      ],
      "execution_count": 4,
      "outputs": []
    },
    {
      "cell_type": "code",
      "metadata": {
        "id": "DsXa80D3W5vn",
        "outputId": "0a679594-400b-4de5-b05b-8df08ed38af7",
        "colab": {
          "base_uri": "https://localhost:8080/"
        }
      },
      "source": [
        "#install package for subword tokenizer\n",
        "!pip install sentencepiece"
      ],
      "execution_count": 11,
      "outputs": [
        {
          "output_type": "stream",
          "text": [
            "Collecting sentencepiece\n",
            "\u001b[?25l  Downloading https://files.pythonhosted.org/packages/e5/2d/6d4ca4bef9a67070fa1cac508606328329152b1df10bdf31fb6e4e727894/sentencepiece-0.1.94-cp36-cp36m-manylinux2014_x86_64.whl (1.1MB)\n",
            "\u001b[K     |████████████████████████████████| 1.1MB 2.7MB/s \n",
            "\u001b[?25hInstalling collected packages: sentencepiece\n",
            "Successfully installed sentencepiece-0.1.94\n"
          ],
          "name": "stdout"
        }
      ]
    },
    {
      "cell_type": "markdown",
      "metadata": {
        "id": "BxZiU1OptMLU"
      },
      "source": [
        "tokenizer"
      ]
    },
    {
      "cell_type": "code",
      "metadata": {
        "id": "l2PocX6mWuZn"
      },
      "source": [
        "import sentencepiece as spm"
      ],
      "execution_count": 13,
      "outputs": []
    },
    {
      "cell_type": "code",
      "metadata": {
        "id": "d0xItrfu9Tc8",
        "outputId": "ae893462-aa8c-44be-b39d-070f68186349",
        "colab": {
          "base_uri": "https://localhost:8080/"
        }
      },
      "source": [
        "import urllib.request\n",
        "import io\n",
        "import sentencepiece as spm\n",
        "\n",
        "# Loads model from URL as iterator and stores the model to BytesIO.\n",
        "model = io.BytesIO()\n",
        "with urllib.request.urlopen(\n",
        "    'https://raw.githubusercontent.com/google/sentencepiece/master/data/botchan.txt'\n",
        ") as response:\n",
        "  spm.SentencePieceTrainer.train(\n",
        "      sentence_iterator=response, model_writer=model, vocab_size=1000)\n",
        "\n",
        "# Serialize the model as file.\n",
        "# with open('out.model', 'wb') as f:\n",
        "#   f.write(model.getvalue())\n",
        "\n",
        "# Directly load the model from serialized model.\n",
        "sp = spm.SentencePieceProcessor(model_proto=model.getvalue())\n",
        "print(sp.encode('this is test'))"
      ],
      "execution_count": 15,
      "outputs": [
        {
          "output_type": "stream",
          "text": [
            "[64, 47, 4, 13, 391]\n"
          ],
          "name": "stdout"
        }
      ]
    },
    {
      "cell_type": "code",
      "metadata": {
        "id": "OoVHOO1x9WvS"
      },
      "source": [
        "aa = torchtext.datasets.language_modeling.WikiText2.splits()"
      ],
      "execution_count": 16,
      "outputs": []
    },
    {
      "cell_type": "code",
      "metadata": {
        "id": "GskmwEYG97uF",
        "outputId": "117c3e90-ba3a-4e7c-ba24-6b6b71fd8215",
        "colab": {
          "base_uri": "https://localhost:8080/",
          "height": 172
        }
      },
      "source": [
        ""
      ],
      "execution_count": 21,
      "outputs": [
        {
          "output_type": "error",
          "ename": "NameError",
          "evalue": "ignored",
          "traceback": [
            "\u001b[0;31m---------------------------------------------------------------------------\u001b[0m",
            "\u001b[0;31mNameError\u001b[0m                                 Traceback (most recent call last)",
            "\u001b[0;32m<ipython-input-21-5ec3a28fb7b9>\u001b[0m in \u001b[0;36m<module>\u001b[0;34m()\u001b[0m\n\u001b[0;32m----> 1\u001b[0;31m \u001b[0msuper\u001b[0m\u001b[0;34m(\u001b[0m\u001b[0mtorchtext\u001b[0m\u001b[0;34m.\u001b[0m\u001b[0mdatasets\u001b[0m\u001b[0;34m.\u001b[0m\u001b[0mlanguage_modeling\u001b[0m\u001b[0;34m.\u001b[0m\u001b[0mWikiText2\u001b[0m\u001b[0;34m,\u001b[0m\u001b[0mcls\u001b[0m\u001b[0;34m)\u001b[0m\u001b[0;34m.\u001b[0m\u001b[0m__init__\u001b[0m\u001b[0;34m(\u001b[0m\u001b[0mTEXT\u001b[0m\u001b[0;34m)\u001b[0m\u001b[0;34m\u001b[0m\u001b[0;34m\u001b[0m\u001b[0m\n\u001b[0m",
            "\u001b[0;31mNameError\u001b[0m: name 'cls' is not defined"
          ]
        }
      ]
    },
    {
      "cell_type": "code",
      "metadata": {
        "id": "chaubPwz2vjL"
      },
      "source": [
        "dataset_base_path = 'drive/My Drive/datasets/'\n",
        "path = dataset_base_path + 'wikitext-2/'\n",
        "#use reversable tokenizer for flexible \n",
        "TEXT = torchtext.data.ReversibleField(tokenize = get_tokenizer(\"revtok\"),\n",
        "                            init_token = '<sos>',\n",
        "                            eos_token = '<eos>',\n",
        "                            sequential=True,\n",
        "                            lower=True,\n",
        "                            include_lengths=True)"
      ],
      "execution_count": 32,
      "outputs": []
    },
    {
      "cell_type": "code",
      "metadata": {
        "id": "gntnbNtxN3zF"
      },
      "source": [
        "dtype = torch.float\n",
        "device = torch.device(\"cpu\")"
      ],
      "execution_count": 38,
      "outputs": []
    },
    {
      "cell_type": "code",
      "metadata": {
        "id": "nmeKUbkw84SV"
      },
      "source": [
        "tr_dat,val_dat,te_dat = torchtext.datasets.language_modeling.WikiText2.splits(TEXT)"
      ],
      "execution_count": 39,
      "outputs": []
    },
    {
      "cell_type": "code",
      "metadata": {
        "id": "ELSkmoEkSUeL",
        "outputId": "8876875c-c619-4b49-bb1b-9cb13a494d6e",
        "colab": {
          "base_uri": "https://localhost:8080/"
        }
      },
      "source": [
        "[tr_dat.examples[0].text][0][:10]"
      ],
      "execution_count": 40,
      "outputs": [
        {
          "output_type": "execute_result",
          "data": {
            "text/plain": [
              "[' ',\n",
              " ' ',\n",
              " '<eos>',\n",
              " ' ',\n",
              " ' = ',\n",
              " ' valkyria ',\n",
              " ' chronicles ',\n",
              " ' iii ',\n",
              " ' = ',\n",
              " ' ']"
            ]
          },
          "metadata": {
            "tags": []
          },
          "execution_count": 40
        }
      ]
    },
    {
      "cell_type": "code",
      "metadata": {
        "id": "5n6QXjlrVet_",
        "outputId": "a249c1a2-b496-441e-b224-04252338d916",
        "colab": {
          "base_uri": "https://localhost:8080/"
        }
      },
      "source": [
        "[val_dat.examples[0].text][0][:10]"
      ],
      "execution_count": 41,
      "outputs": [
        {
          "output_type": "execute_result",
          "data": {
            "text/plain": [
              "[' ', ' ', '<eos>', ' ', ' = ', ' homarus ', ' gammarus ', ' = ', ' ', '<eos>']"
            ]
          },
          "metadata": {
            "tags": []
          },
          "execution_count": 41
        }
      ]
    },
    {
      "cell_type": "code",
      "metadata": {
        "id": "g01iBnn8Vh5w",
        "outputId": "10a487c1-6080-40e0-c944-2e163c2bbf9b",
        "colab": {
          "base_uri": "https://localhost:8080/"
        }
      },
      "source": [
        "[te_dat.examples[0].text][0][:10]"
      ],
      "execution_count": 42,
      "outputs": [
        {
          "output_type": "execute_result",
          "data": {
            "text/plain": [
              "[' ', ' ', '<eos>', ' ', ' = ', ' robert ', ' <', ' unk ', '> ', ' = ']"
            ]
          },
          "metadata": {
            "tags": []
          },
          "execution_count": 42
        }
      ]
    },
    {
      "cell_type": "code",
      "metadata": {
        "id": "gFqSs_Ftg7Fd"
      },
      "source": [
        "#seperating wikitext2 data to documents\n",
        "def sep_to_docs(data : list, doc_sep : str, token_sep : str) -> list:\n",
        "  \"\"\"returns documents from split input text chunk\n",
        "  \"\"\"\n",
        "  result = []\n",
        "  docs = (''.join(data)).split(doc_sep)\n",
        "  for i in docs:\n",
        "    curr_doc = (''.join(i)).split(token_sep)\n",
        "    curr_doc = [i for i in curr_doc if i != '']\n",
        "    if len(curr_doc) >= 1:\n",
        "      result.append(curr_doc)\n",
        "  return result"
      ],
      "execution_count": 43,
      "outputs": []
    },
    {
      "cell_type": "code",
      "metadata": {
        "id": "rilTTz4oroyR"
      },
      "source": [
        "tr_docs = sep_to_docs(data = [tr_dat.examples[0].text][0], doc_sep = '<eos>  =', token_sep = '  ')\n",
        "val_docs = sep_to_docs(data = [val_dat.examples[0].text][0], doc_sep = '<eos>  =', token_sep = '  ')\n",
        "te_docs = sep_to_docs(data = [te_dat.examples[0].text][0], doc_sep = '<eos>  =', token_sep = '  ')"
      ],
      "execution_count": 44,
      "outputs": []
    },
    {
      "cell_type": "code",
      "metadata": {
        "id": "z-Kl4dHcsH34",
        "outputId": "4f297fd4-eb2d-418f-cd15-7f6a517ea6d6",
        "colab": {
          "base_uri": "https://localhost:8080/"
        }
      },
      "source": [
        "print(len(tr_docs),len(val_docs),len(te_docs))"
      ],
      "execution_count": 45,
      "outputs": [
        {
          "output_type": "stream",
          "text": [
            "6211 620 708\n"
          ],
          "name": "stdout"
        }
      ]
    },
    {
      "cell_type": "code",
      "metadata": {
        "id": "SV69mA7wXiQA"
      },
      "source": [
        "word_to_ix = {\"hello\": 0, \"world\": 1}\n",
        "embeds = nn.Embedding(2, 5)  # 2 words in vocab, 5 dimensional embeddings\n",
        "lookup_tensor = torch.tensor([word_to_ix[\"hello\"]], dtype=torch.long)\n",
        "hello_embed = embeds(lookup_tensor)\n",
        "print(hello_embed"
      ],
      "execution_count": null,
      "outputs": []
    },
    {
      "cell_type": "code",
      "metadata": {
        "id": "rJUz8Uthzdar"
      },
      "source": [
        "#building vocab\n",
        "TEXT.build_vocab(sum(tr_docs, []))"
      ],
      "execution_count": 46,
      "outputs": []
    },
    {
      "cell_type": "code",
      "metadata": {
        "id": "j8UK57dy1vvP",
        "outputId": "c1ac5e99-3c0d-4a57-84f8-d249bb5d422d",
        "colab": {
          "base_uri": "https://localhost:8080/"
        }
      },
      "source": [
        "tr_docs[1]"
      ],
      "execution_count": 59,
      "outputs": [
        {
          "output_type": "execute_result",
          "data": {
            "text/plain": [
              "['=',\n",
              " 'gameplay',\n",
              " '=',\n",
              " '=',\n",
              " '<eos>',\n",
              " '<eos>',\n",
              " 'as',\n",
              " 'with',\n",
              " 'previous',\n",
              " '< unk >',\n",
              " 'chronicles',\n",
              " 'games',\n",
              " ',',\n",
              " 'valkyria',\n",
              " 'chronicles',\n",
              " 'iii',\n",
              " 'is',\n",
              " 'a',\n",
              " 'tactical',\n",
              " 'role',\n",
              " '@ - @',\n",
              " 'playing',\n",
              " 'game',\n",
              " 'where',\n",
              " 'players',\n",
              " 'take',\n",
              " 'control',\n",
              " 'of',\n",
              " 'a',\n",
              " 'military',\n",
              " 'unit',\n",
              " 'and',\n",
              " 'take',\n",
              " 'part',\n",
              " 'in',\n",
              " 'missions',\n",
              " 'against',\n",
              " 'enemy',\n",
              " 'forces',\n",
              " '.',\n",
              " 'stories',\n",
              " 'are',\n",
              " 'told',\n",
              " 'through',\n",
              " 'comic',\n",
              " 'book',\n",
              " '@ - @',\n",
              " 'like',\n",
              " 'panels',\n",
              " 'with',\n",
              " 'animated',\n",
              " 'character',\n",
              " 'portraits',\n",
              " ',',\n",
              " 'with',\n",
              " 'characters',\n",
              " 'speaking',\n",
              " 'partially',\n",
              " 'through',\n",
              " 'voiced',\n",
              " 'speech',\n",
              " 'bubbles',\n",
              " 'and',\n",
              " 'partially',\n",
              " 'through',\n",
              " '< unk >',\n",
              " 'text',\n",
              " '.',\n",
              " 'the',\n",
              " 'player',\n",
              " 'progresses',\n",
              " 'through',\n",
              " 'a',\n",
              " 'series',\n",
              " 'of',\n",
              " 'linear',\n",
              " 'missions',\n",
              " ',',\n",
              " 'gradually',\n",
              " 'unlocked',\n",
              " 'as',\n",
              " 'maps',\n",
              " 'that',\n",
              " 'can',\n",
              " 'be',\n",
              " 'freely',\n",
              " '< unk >',\n",
              " 'through',\n",
              " 'and',\n",
              " 'replayed',\n",
              " 'as',\n",
              " 'they',\n",
              " 'are',\n",
              " 'unlocked',\n",
              " '.',\n",
              " 'the',\n",
              " 'route',\n",
              " 'to',\n",
              " 'each',\n",
              " 'story',\n",
              " 'location',\n",
              " 'on',\n",
              " 'the',\n",
              " 'map',\n",
              " 'varies',\n",
              " 'depending',\n",
              " 'on',\n",
              " 'an',\n",
              " 'individual',\n",
              " 'player',\n",
              " \"' s\",\n",
              " 'approach',\n",
              " ':',\n",
              " 'when',\n",
              " 'one',\n",
              " 'option',\n",
              " 'is',\n",
              " 'selected',\n",
              " ',',\n",
              " 'the',\n",
              " 'other',\n",
              " 'is',\n",
              " 'sealed',\n",
              " 'off',\n",
              " 'to',\n",
              " 'the',\n",
              " 'player',\n",
              " '.',\n",
              " 'outside',\n",
              " 'missions',\n",
              " ',',\n",
              " 'the',\n",
              " 'player',\n",
              " 'characters',\n",
              " 'rest',\n",
              " 'in',\n",
              " 'a',\n",
              " 'camp',\n",
              " ',',\n",
              " 'where',\n",
              " 'units',\n",
              " 'can',\n",
              " 'be',\n",
              " 'customized',\n",
              " 'and',\n",
              " 'character',\n",
              " 'growth',\n",
              " 'occurs',\n",
              " '.',\n",
              " 'alongside',\n",
              " 'the',\n",
              " 'main',\n",
              " 'story',\n",
              " 'missions',\n",
              " 'are',\n",
              " 'character',\n",
              " '@ - @',\n",
              " 'specific',\n",
              " 'sub',\n",
              " 'missions',\n",
              " 'relating',\n",
              " 'to',\n",
              " 'different',\n",
              " 'squad',\n",
              " 'members',\n",
              " '.',\n",
              " 'after',\n",
              " 'the',\n",
              " 'game',\n",
              " \"' s\",\n",
              " 'completion',\n",
              " ',',\n",
              " 'additional',\n",
              " 'episodes',\n",
              " 'are',\n",
              " 'unlocked',\n",
              " ',',\n",
              " 'some',\n",
              " 'of',\n",
              " 'them',\n",
              " 'having',\n",
              " 'a',\n",
              " 'higher',\n",
              " 'difficulty',\n",
              " 'than',\n",
              " 'those',\n",
              " 'found',\n",
              " 'in',\n",
              " 'the',\n",
              " 'rest',\n",
              " 'of',\n",
              " 'the',\n",
              " 'game',\n",
              " '.',\n",
              " 'there',\n",
              " 'are',\n",
              " 'also',\n",
              " 'love',\n",
              " 'simulation',\n",
              " 'elements',\n",
              " 'related',\n",
              " 'to',\n",
              " 'the',\n",
              " 'game',\n",
              " \"' s\",\n",
              " 'two',\n",
              " 'main',\n",
              " '< unk >',\n",
              " ',',\n",
              " 'although',\n",
              " 'they',\n",
              " 'take',\n",
              " 'a',\n",
              " 'very',\n",
              " 'minor',\n",
              " 'role',\n",
              " '.',\n",
              " '<eos>',\n",
              " 'the',\n",
              " 'game',\n",
              " \"' s\",\n",
              " 'battle',\n",
              " 'system',\n",
              " ',',\n",
              " 'the',\n",
              " '< unk >',\n",
              " 'system',\n",
              " ',',\n",
              " 'is',\n",
              " 'carried',\n",
              " 'over',\n",
              " 'directly',\n",
              " 'from',\n",
              " '< unk >',\n",
              " 'chronicles',\n",
              " '.',\n",
              " 'during',\n",
              " 'missions',\n",
              " ',',\n",
              " 'players',\n",
              " 'select',\n",
              " 'each',\n",
              " 'unit',\n",
              " 'using',\n",
              " 'a',\n",
              " 'top',\n",
              " '@ - @',\n",
              " 'down',\n",
              " 'perspective',\n",
              " 'of',\n",
              " 'the',\n",
              " 'battlefield',\n",
              " 'map',\n",
              " ':',\n",
              " 'once',\n",
              " 'a',\n",
              " 'character',\n",
              " 'is',\n",
              " 'selected',\n",
              " ',',\n",
              " 'the',\n",
              " 'player',\n",
              " 'moves',\n",
              " 'the',\n",
              " 'character',\n",
              " 'around',\n",
              " 'the',\n",
              " 'battlefield',\n",
              " 'in',\n",
              " 'third',\n",
              " '@ - @',\n",
              " 'person',\n",
              " '.',\n",
              " 'a',\n",
              " 'character',\n",
              " 'can',\n",
              " 'only',\n",
              " 'act',\n",
              " 'once',\n",
              " 'per',\n",
              " '@ - @',\n",
              " 'turn',\n",
              " ',',\n",
              " 'but',\n",
              " 'characters',\n",
              " 'can',\n",
              " 'be',\n",
              " 'granted',\n",
              " 'multiple',\n",
              " 'turns',\n",
              " 'at',\n",
              " 'the',\n",
              " 'expense',\n",
              " 'of',\n",
              " 'other',\n",
              " 'characters',\n",
              " \"'\",\n",
              " 'turns',\n",
              " '.',\n",
              " 'each',\n",
              " 'character',\n",
              " 'has',\n",
              " 'a',\n",
              " 'field',\n",
              " 'and',\n",
              " 'distance',\n",
              " 'of',\n",
              " 'movement',\n",
              " 'limited',\n",
              " 'by',\n",
              " 'their',\n",
              " 'action',\n",
              " '< unk >',\n",
              " '.',\n",
              " 'up',\n",
              " 'to',\n",
              " 'nine',\n",
              " 'characters',\n",
              " 'can',\n",
              " 'be',\n",
              " 'assigned',\n",
              " 'to',\n",
              " 'a',\n",
              " 'single',\n",
              " 'mission',\n",
              " '.',\n",
              " 'during',\n",
              " 'gameplay',\n",
              " ',',\n",
              " 'characters',\n",
              " 'will',\n",
              " 'call',\n",
              " 'out',\n",
              " 'if',\n",
              " 'something',\n",
              " 'happens',\n",
              " 'to',\n",
              " 'them',\n",
              " ',',\n",
              " 'such',\n",
              " 'as',\n",
              " 'their',\n",
              " 'health',\n",
              " 'points',\n",
              " '(',\n",
              " 'hp',\n",
              " ')',\n",
              " 'getting',\n",
              " 'low',\n",
              " 'or',\n",
              " 'being',\n",
              " 'knocked',\n",
              " 'out',\n",
              " 'by',\n",
              " 'enemy',\n",
              " 'attacks',\n",
              " '.',\n",
              " 'each',\n",
              " 'character',\n",
              " 'has',\n",
              " 'specific',\n",
              " '\"',\n",
              " 'potentials',\n",
              " '\"',\n",
              " ',',\n",
              " 'skills',\n",
              " 'unique',\n",
              " 'to',\n",
              " 'each',\n",
              " 'character',\n",
              " '.',\n",
              " 'they',\n",
              " 'are',\n",
              " 'divided',\n",
              " 'into',\n",
              " '\"',\n",
              " 'personal',\n",
              " 'potential',\n",
              " '\"',\n",
              " ',',\n",
              " 'which',\n",
              " 'are',\n",
              " 'innate',\n",
              " 'skills',\n",
              " 'that',\n",
              " 'remain',\n",
              " 'unaltered',\n",
              " 'unless',\n",
              " 'otherwise',\n",
              " 'dictated',\n",
              " 'by',\n",
              " 'the',\n",
              " 'story',\n",
              " 'and',\n",
              " 'can',\n",
              " 'either',\n",
              " 'help',\n",
              " 'or',\n",
              " 'impede',\n",
              " 'a',\n",
              " 'character',\n",
              " ',',\n",
              " 'and',\n",
              " '\"',\n",
              " 'battle',\n",
              " 'potentials',\n",
              " '\"',\n",
              " ',',\n",
              " 'which',\n",
              " 'are',\n",
              " 'grown',\n",
              " 'throughout',\n",
              " 'the',\n",
              " 'game',\n",
              " 'and',\n",
              " 'always',\n",
              " 'grant',\n",
              " '< unk >',\n",
              " 'to',\n",
              " 'a',\n",
              " 'character',\n",
              " '.',\n",
              " 'to',\n",
              " 'learn',\n",
              " 'battle',\n",
              " 'potentials',\n",
              " ',',\n",
              " 'each',\n",
              " 'character',\n",
              " 'has',\n",
              " 'a',\n",
              " 'unique',\n",
              " '\"',\n",
              " 'masters',\n",
              " 'table',\n",
              " '\"',\n",
              " ',',\n",
              " 'a',\n",
              " 'grid',\n",
              " '@ - @',\n",
              " 'based',\n",
              " 'skill',\n",
              " 'table',\n",
              " 'that',\n",
              " 'can',\n",
              " 'be',\n",
              " 'used',\n",
              " 'to',\n",
              " 'acquire',\n",
              " 'and',\n",
              " 'link',\n",
              " 'different',\n",
              " 'skills',\n",
              " '.',\n",
              " 'characters',\n",
              " 'also',\n",
              " 'have',\n",
              " 'special',\n",
              " '< unk >',\n",
              " 'that',\n",
              " 'grant',\n",
              " 'them',\n",
              " 'temporary',\n",
              " '< unk >',\n",
              " 'on',\n",
              " 'the',\n",
              " 'battlefield',\n",
              " ':',\n",
              " 'kurt',\n",
              " 'can',\n",
              " 'activate',\n",
              " '\"',\n",
              " 'direct',\n",
              " 'command',\n",
              " '\"',\n",
              " 'and',\n",
              " 'move',\n",
              " 'around',\n",
              " 'the',\n",
              " 'battlefield',\n",
              " 'without',\n",
              " '< unk >',\n",
              " 'his',\n",
              " 'action',\n",
              " 'point',\n",
              " 'gauge',\n",
              " ',',\n",
              " 'the',\n",
              " 'character',\n",
              " '< unk >',\n",
              " 'can',\n",
              " 'shift',\n",
              " 'into',\n",
              " 'her',\n",
              " '\"',\n",
              " 'valkyria',\n",
              " 'form',\n",
              " '\"',\n",
              " 'and',\n",
              " 'become',\n",
              " '< unk >',\n",
              " ',',\n",
              " 'while',\n",
              " 'imca',\n",
              " 'can',\n",
              " 'target',\n",
              " 'multiple',\n",
              " 'enemy',\n",
              " 'units',\n",
              " 'with',\n",
              " 'her',\n",
              " 'heavy',\n",
              " 'weapon',\n",
              " '.',\n",
              " '<eos>',\n",
              " 'troops',\n",
              " 'are',\n",
              " 'divided',\n",
              " 'into',\n",
              " 'five',\n",
              " 'classes',\n",
              " ':',\n",
              " 'scouts',\n",
              " ',',\n",
              " '< unk >',\n",
              " ',',\n",
              " 'engineers',\n",
              " ',',\n",
              " '< unk >',\n",
              " 'and',\n",
              " 'armored',\n",
              " 'soldier',\n",
              " '.',\n",
              " '< unk >',\n",
              " 'can',\n",
              " 'switch',\n",
              " 'classes',\n",
              " 'by',\n",
              " 'changing',\n",
              " 'their',\n",
              " 'assigned',\n",
              " 'weapon',\n",
              " '.',\n",
              " 'changing',\n",
              " 'class',\n",
              " 'does',\n",
              " 'not',\n",
              " 'greatly',\n",
              " 'affect',\n",
              " 'the',\n",
              " 'stats',\n",
              " 'gained',\n",
              " 'while',\n",
              " 'in',\n",
              " 'a',\n",
              " 'previous',\n",
              " 'class',\n",
              " '.',\n",
              " 'with',\n",
              " 'victory',\n",
              " 'in',\n",
              " 'battle',\n",
              " ',',\n",
              " 'experience',\n",
              " 'points',\n",
              " 'are',\n",
              " 'awarded',\n",
              " 'to',\n",
              " 'the',\n",
              " 'squad',\n",
              " ',',\n",
              " 'which',\n",
              " 'are',\n",
              " 'distributed',\n",
              " 'into',\n",
              " 'five',\n",
              " 'different',\n",
              " 'attributes',\n",
              " 'shared',\n",
              " 'by',\n",
              " 'the',\n",
              " 'entire',\n",
              " 'squad',\n",
              " ',',\n",
              " 'a',\n",
              " 'feature',\n",
              " 'differing',\n",
              " 'from',\n",
              " 'early',\n",
              " 'games',\n",
              " \"'\",\n",
              " 'method',\n",
              " 'of',\n",
              " 'distributing',\n",
              " 'to',\n",
              " 'different',\n",
              " 'unit',\n",
              " 'types',\n",
              " '.',\n",
              " '<eos>']"
            ]
          },
          "metadata": {
            "tags": []
          },
          "execution_count": 59
        }
      ]
    },
    {
      "cell_type": "code",
      "metadata": {
        "id": "vI2D_wLXzrUT",
        "outputId": "4c0d19ba-329d-4176-c9f1-f6728ac3dcdc",
        "colab": {
          "base_uri": "https://localhost:8080/",
          "height": 298
        }
      },
      "source": [
        "TEXT.numericalize((tr_docs[:2],[len(tr_docs[0]),len(tr_docs[1])]))"
      ],
      "execution_count": 60,
      "outputs": [
        {
          "output_type": "error",
          "ename": "ValueError",
          "evalue": "ignored",
          "traceback": [
            "\u001b[0;31m---------------------------------------------------------------------------\u001b[0m",
            "\u001b[0;31mValueError\u001b[0m                                Traceback (most recent call last)",
            "\u001b[0;32m<ipython-input-60-3d851a7d7504>\u001b[0m in \u001b[0;36m<module>\u001b[0;34m()\u001b[0m\n\u001b[0;32m----> 1\u001b[0;31m \u001b[0mTEXT\u001b[0m\u001b[0;34m.\u001b[0m\u001b[0mnumericalize\u001b[0m\u001b[0;34m(\u001b[0m\u001b[0;34m(\u001b[0m\u001b[0mtr_docs\u001b[0m\u001b[0;34m[\u001b[0m\u001b[0;34m:\u001b[0m\u001b[0;36m2\u001b[0m\u001b[0;34m]\u001b[0m\u001b[0;34m,\u001b[0m\u001b[0;34m[\u001b[0m\u001b[0mlen\u001b[0m\u001b[0;34m(\u001b[0m\u001b[0mtr_docs\u001b[0m\u001b[0;34m[\u001b[0m\u001b[0;36m0\u001b[0m\u001b[0;34m]\u001b[0m\u001b[0;34m)\u001b[0m\u001b[0;34m,\u001b[0m\u001b[0mlen\u001b[0m\u001b[0;34m(\u001b[0m\u001b[0mtr_docs\u001b[0m\u001b[0;34m[\u001b[0m\u001b[0;36m1\u001b[0m\u001b[0;34m]\u001b[0m\u001b[0;34m)\u001b[0m\u001b[0;34m]\u001b[0m\u001b[0;34m)\u001b[0m\u001b[0;34m)\u001b[0m\u001b[0;34m\u001b[0m\u001b[0;34m\u001b[0m\u001b[0m\n\u001b[0m",
            "\u001b[0;32m/usr/local/lib/python3.6/dist-packages/torchtext/data/field.py\u001b[0m in \u001b[0;36mnumericalize\u001b[0;34m(self, arr, device)\u001b[0m\n\u001b[1;32m    321\u001b[0m                 \u001b[0marr\u001b[0m \u001b[0;34m=\u001b[0m \u001b[0mself\u001b[0m\u001b[0;34m.\u001b[0m\u001b[0mpostprocessing\u001b[0m\u001b[0;34m(\u001b[0m\u001b[0marr\u001b[0m\u001b[0;34m,\u001b[0m \u001b[0;32mNone\u001b[0m\u001b[0;34m)\u001b[0m\u001b[0;34m\u001b[0m\u001b[0;34m\u001b[0m\u001b[0m\n\u001b[1;32m    322\u001b[0m \u001b[0;34m\u001b[0m\u001b[0m\n\u001b[0;32m--> 323\u001b[0;31m         \u001b[0mvar\u001b[0m \u001b[0;34m=\u001b[0m \u001b[0mtorch\u001b[0m\u001b[0;34m.\u001b[0m\u001b[0mtensor\u001b[0m\u001b[0;34m(\u001b[0m\u001b[0marr\u001b[0m\u001b[0;34m,\u001b[0m \u001b[0mdtype\u001b[0m\u001b[0;34m=\u001b[0m\u001b[0mself\u001b[0m\u001b[0;34m.\u001b[0m\u001b[0mdtype\u001b[0m\u001b[0;34m,\u001b[0m \u001b[0mdevice\u001b[0m\u001b[0;34m=\u001b[0m\u001b[0mdevice\u001b[0m\u001b[0;34m)\u001b[0m\u001b[0;34m\u001b[0m\u001b[0;34m\u001b[0m\u001b[0m\n\u001b[0m\u001b[1;32m    324\u001b[0m \u001b[0;34m\u001b[0m\u001b[0m\n\u001b[1;32m    325\u001b[0m         \u001b[0;32mif\u001b[0m \u001b[0mself\u001b[0m\u001b[0;34m.\u001b[0m\u001b[0msequential\u001b[0m \u001b[0;32mand\u001b[0m \u001b[0;32mnot\u001b[0m \u001b[0mself\u001b[0m\u001b[0;34m.\u001b[0m\u001b[0mbatch_first\u001b[0m\u001b[0;34m:\u001b[0m\u001b[0;34m\u001b[0m\u001b[0;34m\u001b[0m\u001b[0m\n",
            "\u001b[0;31mValueError\u001b[0m: expected sequence of length 328 at dim 1 (got 600)"
          ]
        }
      ]
    },
    {
      "cell_type": "code",
      "metadata": {
        "id": "fL4-07ivFFHW",
        "outputId": "1add64f1-d323-410b-875d-ec5b049bf3d0",
        "colab": {
          "base_uri": "https://localhost:8080/"
        }
      },
      "source": [
        "tr_docs[:2]"
      ],
      "execution_count": 63,
      "outputs": [
        {
          "output_type": "execute_result",
          "data": {
            "text/plain": [
              "[['valkyria',\n",
              "  'chronicles',\n",
              "  'iii',\n",
              "  '=',\n",
              "  '<eos>',\n",
              "  '<eos>',\n",
              "  'senjō',\n",
              "  'no',\n",
              "  'valkyria',\n",
              "  '3',\n",
              "  ':',\n",
              "  '< unk >',\n",
              "  'chronicles',\n",
              "  '(',\n",
              "  'japanese',\n",
              "  ':',\n",
              "  '戦場のヴァルキュリア 3',\n",
              "  ',',\n",
              "  'lit',\n",
              "  '.',\n",
              "  'valkyria',\n",
              "  'of',\n",
              "  'the',\n",
              "  'battlefield',\n",
              "  '3',\n",
              "  ')',\n",
              "  ',',\n",
              "  'commonly',\n",
              "  'referred',\n",
              "  'to',\n",
              "  'as',\n",
              "  'valkyria',\n",
              "  'chronicles',\n",
              "  'iii',\n",
              "  'outside',\n",
              "  'japan',\n",
              "  ',',\n",
              "  'is',\n",
              "  'a',\n",
              "  'tactical',\n",
              "  'role',\n",
              "  '@ - @',\n",
              "  'playing',\n",
              "  'video',\n",
              "  'game',\n",
              "  'developed',\n",
              "  'by',\n",
              "  'sega',\n",
              "  'and',\n",
              "  'media . vision',\n",
              "  'for',\n",
              "  'the',\n",
              "  'playstation',\n",
              "  'portable',\n",
              "  '.',\n",
              "  'released',\n",
              "  'in',\n",
              "  'january',\n",
              "  '2011',\n",
              "  'in',\n",
              "  'japan',\n",
              "  ',',\n",
              "  'it',\n",
              "  'is',\n",
              "  'the',\n",
              "  'third',\n",
              "  'game',\n",
              "  'in',\n",
              "  'the',\n",
              "  'valkyria',\n",
              "  'series',\n",
              "  '.',\n",
              "  '< unk >',\n",
              "  'the',\n",
              "  'same',\n",
              "  'fusion',\n",
              "  'of',\n",
              "  'tactical',\n",
              "  'and',\n",
              "  'real',\n",
              "  '@ - @',\n",
              "  'time',\n",
              "  'gameplay',\n",
              "  'as',\n",
              "  'its',\n",
              "  'predecessors',\n",
              "  ',',\n",
              "  'the',\n",
              "  'story',\n",
              "  'runs',\n",
              "  'parallel',\n",
              "  'to',\n",
              "  'the',\n",
              "  'first',\n",
              "  'game',\n",
              "  'and',\n",
              "  'follows',\n",
              "  'the',\n",
              "  '\"',\n",
              "  'nameless',\n",
              "  '\"',\n",
              "  ',',\n",
              "  'a',\n",
              "  'penal',\n",
              "  'military',\n",
              "  'unit',\n",
              "  'serving',\n",
              "  'the',\n",
              "  'nation',\n",
              "  'of',\n",
              "  'gallia',\n",
              "  'during',\n",
              "  'the',\n",
              "  'second',\n",
              "  'europan',\n",
              "  'war',\n",
              "  'who',\n",
              "  'perform',\n",
              "  'secret',\n",
              "  'black',\n",
              "  'operations',\n",
              "  'and',\n",
              "  'are',\n",
              "  'pitted',\n",
              "  'against',\n",
              "  'the',\n",
              "  'imperial',\n",
              "  'unit',\n",
              "  '\"',\n",
              "  '< unk >',\n",
              "  'raven',\n",
              "  '\"',\n",
              "  '.',\n",
              "  '<eos>',\n",
              "  'the',\n",
              "  'game',\n",
              "  'began',\n",
              "  'development',\n",
              "  'in',\n",
              "  '2010',\n",
              "  ',',\n",
              "  'carrying',\n",
              "  'over',\n",
              "  'a',\n",
              "  'large',\n",
              "  'portion',\n",
              "  'of',\n",
              "  'the',\n",
              "  'work',\n",
              "  'done',\n",
              "  'on',\n",
              "  'valkyria',\n",
              "  'chronicles',\n",
              "  'ii',\n",
              "  '.',\n",
              "  'while',\n",
              "  'it',\n",
              "  'retained',\n",
              "  'the',\n",
              "  'standard',\n",
              "  'features',\n",
              "  'of',\n",
              "  'the',\n",
              "  'series',\n",
              "  ',',\n",
              "  'it',\n",
              "  'also',\n",
              "  'underwent',\n",
              "  'multiple',\n",
              "  'adjustments',\n",
              "  ',',\n",
              "  'such',\n",
              "  'as',\n",
              "  'making',\n",
              "  'the',\n",
              "  'game',\n",
              "  'more',\n",
              "  '< unk >',\n",
              "  'for',\n",
              "  'series',\n",
              "  'newcomers',\n",
              "  '.',\n",
              "  'character',\n",
              "  'designer',\n",
              "  '< unk >',\n",
              "  'honjou',\n",
              "  'and',\n",
              "  'composer',\n",
              "  'hitoshi',\n",
              "  'sakimoto',\n",
              "  'both',\n",
              "  'returned',\n",
              "  'from',\n",
              "  'previous',\n",
              "  'entries',\n",
              "  ',',\n",
              "  'along',\n",
              "  'with',\n",
              "  'valkyria',\n",
              "  'chronicles',\n",
              "  'ii',\n",
              "  'director',\n",
              "  'takeshi',\n",
              "  'ozawa',\n",
              "  '.',\n",
              "  'a',\n",
              "  'large',\n",
              "  'team',\n",
              "  'of',\n",
              "  'writers',\n",
              "  'handled',\n",
              "  'the',\n",
              "  'script',\n",
              "  '.',\n",
              "  'the',\n",
              "  'game',\n",
              "  \"' s\",\n",
              "  'opening',\n",
              "  'theme',\n",
              "  'was',\n",
              "  'sung',\n",
              "  'by',\n",
              "  'may',\n",
              "  \"' n\",\n",
              "  '.',\n",
              "  '<eos>',\n",
              "  'it',\n",
              "  'met',\n",
              "  'with',\n",
              "  'positive',\n",
              "  'sales',\n",
              "  'in',\n",
              "  'japan',\n",
              "  ',',\n",
              "  'and',\n",
              "  'was',\n",
              "  'praised',\n",
              "  'by',\n",
              "  'both',\n",
              "  'japanese',\n",
              "  'and',\n",
              "  'western',\n",
              "  'critics',\n",
              "  '.',\n",
              "  'after',\n",
              "  'release',\n",
              "  ',',\n",
              "  'it',\n",
              "  'received',\n",
              "  'downloadable',\n",
              "  'content',\n",
              "  ',',\n",
              "  'along',\n",
              "  'with',\n",
              "  'an',\n",
              "  'expanded',\n",
              "  'edition',\n",
              "  'in',\n",
              "  'november',\n",
              "  'of',\n",
              "  'that',\n",
              "  'year',\n",
              "  '.',\n",
              "  'it',\n",
              "  'was',\n",
              "  'also',\n",
              "  'adapted',\n",
              "  'into',\n",
              "  'manga',\n",
              "  'and',\n",
              "  'an',\n",
              "  'original',\n",
              "  'video',\n",
              "  'animation',\n",
              "  'series',\n",
              "  '.',\n",
              "  'due',\n",
              "  'to',\n",
              "  'low',\n",
              "  'sales',\n",
              "  'of',\n",
              "  'valkyria',\n",
              "  'chronicles',\n",
              "  'ii',\n",
              "  ',',\n",
              "  'valkyria',\n",
              "  'chronicles',\n",
              "  'iii',\n",
              "  'was',\n",
              "  'not',\n",
              "  'localized',\n",
              "  ',',\n",
              "  'but',\n",
              "  'a',\n",
              "  'fan',\n",
              "  'translation',\n",
              "  'compatible',\n",
              "  'with',\n",
              "  'the',\n",
              "  'game',\n",
              "  \"' s\",\n",
              "  'expanded',\n",
              "  'edition',\n",
              "  'was',\n",
              "  'released',\n",
              "  'in',\n",
              "  '2014',\n",
              "  '.',\n",
              "  'media . vision',\n",
              "  'would',\n",
              "  'return',\n",
              "  'to',\n",
              "  'the',\n",
              "  'franchise',\n",
              "  'with',\n",
              "  'the',\n",
              "  'development',\n",
              "  'of',\n",
              "  'valkyria',\n",
              "  ':',\n",
              "  'azure',\n",
              "  'revolution',\n",
              "  'for',\n",
              "  'the',\n",
              "  'playstation',\n",
              "  '4',\n",
              "  '.',\n",
              "  '<eos>'],\n",
              " ['=',\n",
              "  'gameplay',\n",
              "  '=',\n",
              "  '=',\n",
              "  '<eos>',\n",
              "  '<eos>',\n",
              "  'as',\n",
              "  'with',\n",
              "  'previous',\n",
              "  '< unk >',\n",
              "  'chronicles',\n",
              "  'games',\n",
              "  ',',\n",
              "  'valkyria',\n",
              "  'chronicles',\n",
              "  'iii',\n",
              "  'is',\n",
              "  'a',\n",
              "  'tactical',\n",
              "  'role',\n",
              "  '@ - @',\n",
              "  'playing',\n",
              "  'game',\n",
              "  'where',\n",
              "  'players',\n",
              "  'take',\n",
              "  'control',\n",
              "  'of',\n",
              "  'a',\n",
              "  'military',\n",
              "  'unit',\n",
              "  'and',\n",
              "  'take',\n",
              "  'part',\n",
              "  'in',\n",
              "  'missions',\n",
              "  'against',\n",
              "  'enemy',\n",
              "  'forces',\n",
              "  '.',\n",
              "  'stories',\n",
              "  'are',\n",
              "  'told',\n",
              "  'through',\n",
              "  'comic',\n",
              "  'book',\n",
              "  '@ - @',\n",
              "  'like',\n",
              "  'panels',\n",
              "  'with',\n",
              "  'animated',\n",
              "  'character',\n",
              "  'portraits',\n",
              "  ',',\n",
              "  'with',\n",
              "  'characters',\n",
              "  'speaking',\n",
              "  'partially',\n",
              "  'through',\n",
              "  'voiced',\n",
              "  'speech',\n",
              "  'bubbles',\n",
              "  'and',\n",
              "  'partially',\n",
              "  'through',\n",
              "  '< unk >',\n",
              "  'text',\n",
              "  '.',\n",
              "  'the',\n",
              "  'player',\n",
              "  'progresses',\n",
              "  'through',\n",
              "  'a',\n",
              "  'series',\n",
              "  'of',\n",
              "  'linear',\n",
              "  'missions',\n",
              "  ',',\n",
              "  'gradually',\n",
              "  'unlocked',\n",
              "  'as',\n",
              "  'maps',\n",
              "  'that',\n",
              "  'can',\n",
              "  'be',\n",
              "  'freely',\n",
              "  '< unk >',\n",
              "  'through',\n",
              "  'and',\n",
              "  'replayed',\n",
              "  'as',\n",
              "  'they',\n",
              "  'are',\n",
              "  'unlocked',\n",
              "  '.',\n",
              "  'the',\n",
              "  'route',\n",
              "  'to',\n",
              "  'each',\n",
              "  'story',\n",
              "  'location',\n",
              "  'on',\n",
              "  'the',\n",
              "  'map',\n",
              "  'varies',\n",
              "  'depending',\n",
              "  'on',\n",
              "  'an',\n",
              "  'individual',\n",
              "  'player',\n",
              "  \"' s\",\n",
              "  'approach',\n",
              "  ':',\n",
              "  'when',\n",
              "  'one',\n",
              "  'option',\n",
              "  'is',\n",
              "  'selected',\n",
              "  ',',\n",
              "  'the',\n",
              "  'other',\n",
              "  'is',\n",
              "  'sealed',\n",
              "  'off',\n",
              "  'to',\n",
              "  'the',\n",
              "  'player',\n",
              "  '.',\n",
              "  'outside',\n",
              "  'missions',\n",
              "  ',',\n",
              "  'the',\n",
              "  'player',\n",
              "  'characters',\n",
              "  'rest',\n",
              "  'in',\n",
              "  'a',\n",
              "  'camp',\n",
              "  ',',\n",
              "  'where',\n",
              "  'units',\n",
              "  'can',\n",
              "  'be',\n",
              "  'customized',\n",
              "  'and',\n",
              "  'character',\n",
              "  'growth',\n",
              "  'occurs',\n",
              "  '.',\n",
              "  'alongside',\n",
              "  'the',\n",
              "  'main',\n",
              "  'story',\n",
              "  'missions',\n",
              "  'are',\n",
              "  'character',\n",
              "  '@ - @',\n",
              "  'specific',\n",
              "  'sub',\n",
              "  'missions',\n",
              "  'relating',\n",
              "  'to',\n",
              "  'different',\n",
              "  'squad',\n",
              "  'members',\n",
              "  '.',\n",
              "  'after',\n",
              "  'the',\n",
              "  'game',\n",
              "  \"' s\",\n",
              "  'completion',\n",
              "  ',',\n",
              "  'additional',\n",
              "  'episodes',\n",
              "  'are',\n",
              "  'unlocked',\n",
              "  ',',\n",
              "  'some',\n",
              "  'of',\n",
              "  'them',\n",
              "  'having',\n",
              "  'a',\n",
              "  'higher',\n",
              "  'difficulty',\n",
              "  'than',\n",
              "  'those',\n",
              "  'found',\n",
              "  'in',\n",
              "  'the',\n",
              "  'rest',\n",
              "  'of',\n",
              "  'the',\n",
              "  'game',\n",
              "  '.',\n",
              "  'there',\n",
              "  'are',\n",
              "  'also',\n",
              "  'love',\n",
              "  'simulation',\n",
              "  'elements',\n",
              "  'related',\n",
              "  'to',\n",
              "  'the',\n",
              "  'game',\n",
              "  \"' s\",\n",
              "  'two',\n",
              "  'main',\n",
              "  '< unk >',\n",
              "  ',',\n",
              "  'although',\n",
              "  'they',\n",
              "  'take',\n",
              "  'a',\n",
              "  'very',\n",
              "  'minor',\n",
              "  'role',\n",
              "  '.',\n",
              "  '<eos>',\n",
              "  'the',\n",
              "  'game',\n",
              "  \"' s\",\n",
              "  'battle',\n",
              "  'system',\n",
              "  ',',\n",
              "  'the',\n",
              "  '< unk >',\n",
              "  'system',\n",
              "  ',',\n",
              "  'is',\n",
              "  'carried',\n",
              "  'over',\n",
              "  'directly',\n",
              "  'from',\n",
              "  '< unk >',\n",
              "  'chronicles',\n",
              "  '.',\n",
              "  'during',\n",
              "  'missions',\n",
              "  ',',\n",
              "  'players',\n",
              "  'select',\n",
              "  'each',\n",
              "  'unit',\n",
              "  'using',\n",
              "  'a',\n",
              "  'top',\n",
              "  '@ - @',\n",
              "  'down',\n",
              "  'perspective',\n",
              "  'of',\n",
              "  'the',\n",
              "  'battlefield',\n",
              "  'map',\n",
              "  ':',\n",
              "  'once',\n",
              "  'a',\n",
              "  'character',\n",
              "  'is',\n",
              "  'selected',\n",
              "  ',',\n",
              "  'the',\n",
              "  'player',\n",
              "  'moves',\n",
              "  'the',\n",
              "  'character',\n",
              "  'around',\n",
              "  'the',\n",
              "  'battlefield',\n",
              "  'in',\n",
              "  'third',\n",
              "  '@ - @',\n",
              "  'person',\n",
              "  '.',\n",
              "  'a',\n",
              "  'character',\n",
              "  'can',\n",
              "  'only',\n",
              "  'act',\n",
              "  'once',\n",
              "  'per',\n",
              "  '@ - @',\n",
              "  'turn',\n",
              "  ',',\n",
              "  'but',\n",
              "  'characters',\n",
              "  'can',\n",
              "  'be',\n",
              "  'granted',\n",
              "  'multiple',\n",
              "  'turns',\n",
              "  'at',\n",
              "  'the',\n",
              "  'expense',\n",
              "  'of',\n",
              "  'other',\n",
              "  'characters',\n",
              "  \"'\",\n",
              "  'turns',\n",
              "  '.',\n",
              "  'each',\n",
              "  'character',\n",
              "  'has',\n",
              "  'a',\n",
              "  'field',\n",
              "  'and',\n",
              "  'distance',\n",
              "  'of',\n",
              "  'movement',\n",
              "  'limited',\n",
              "  'by',\n",
              "  'their',\n",
              "  'action',\n",
              "  '< unk >',\n",
              "  '.',\n",
              "  'up',\n",
              "  'to',\n",
              "  'nine',\n",
              "  'characters',\n",
              "  'can',\n",
              "  'be',\n",
              "  'assigned',\n",
              "  'to',\n",
              "  'a',\n",
              "  'single',\n",
              "  'mission',\n",
              "  '.',\n",
              "  'during',\n",
              "  'gameplay',\n",
              "  ',',\n",
              "  'characters',\n",
              "  'will',\n",
              "  'call',\n",
              "  'out',\n",
              "  'if',\n",
              "  'something',\n",
              "  'happens',\n",
              "  'to',\n",
              "  'them',\n",
              "  ',',\n",
              "  'such',\n",
              "  'as',\n",
              "  'their',\n",
              "  'health',\n",
              "  'points',\n",
              "  '(',\n",
              "  'hp',\n",
              "  ')',\n",
              "  'getting',\n",
              "  'low',\n",
              "  'or',\n",
              "  'being',\n",
              "  'knocked',\n",
              "  'out',\n",
              "  'by',\n",
              "  'enemy',\n",
              "  'attacks',\n",
              "  '.',\n",
              "  'each',\n",
              "  'character',\n",
              "  'has',\n",
              "  'specific',\n",
              "  '\"',\n",
              "  'potentials',\n",
              "  '\"',\n",
              "  ',',\n",
              "  'skills',\n",
              "  'unique',\n",
              "  'to',\n",
              "  'each',\n",
              "  'character',\n",
              "  '.',\n",
              "  'they',\n",
              "  'are',\n",
              "  'divided',\n",
              "  'into',\n",
              "  '\"',\n",
              "  'personal',\n",
              "  'potential',\n",
              "  '\"',\n",
              "  ',',\n",
              "  'which',\n",
              "  'are',\n",
              "  'innate',\n",
              "  'skills',\n",
              "  'that',\n",
              "  'remain',\n",
              "  'unaltered',\n",
              "  'unless',\n",
              "  'otherwise',\n",
              "  'dictated',\n",
              "  'by',\n",
              "  'the',\n",
              "  'story',\n",
              "  'and',\n",
              "  'can',\n",
              "  'either',\n",
              "  'help',\n",
              "  'or',\n",
              "  'impede',\n",
              "  'a',\n",
              "  'character',\n",
              "  ',',\n",
              "  'and',\n",
              "  '\"',\n",
              "  'battle',\n",
              "  'potentials',\n",
              "  '\"',\n",
              "  ',',\n",
              "  'which',\n",
              "  'are',\n",
              "  'grown',\n",
              "  'throughout',\n",
              "  'the',\n",
              "  'game',\n",
              "  'and',\n",
              "  'always',\n",
              "  'grant',\n",
              "  '< unk >',\n",
              "  'to',\n",
              "  'a',\n",
              "  'character',\n",
              "  '.',\n",
              "  'to',\n",
              "  'learn',\n",
              "  'battle',\n",
              "  'potentials',\n",
              "  ',',\n",
              "  'each',\n",
              "  'character',\n",
              "  'has',\n",
              "  'a',\n",
              "  'unique',\n",
              "  '\"',\n",
              "  'masters',\n",
              "  'table',\n",
              "  '\"',\n",
              "  ',',\n",
              "  'a',\n",
              "  'grid',\n",
              "  '@ - @',\n",
              "  'based',\n",
              "  'skill',\n",
              "  'table',\n",
              "  'that',\n",
              "  'can',\n",
              "  'be',\n",
              "  'used',\n",
              "  'to',\n",
              "  'acquire',\n",
              "  'and',\n",
              "  'link',\n",
              "  'different',\n",
              "  'skills',\n",
              "  '.',\n",
              "  'characters',\n",
              "  'also',\n",
              "  'have',\n",
              "  'special',\n",
              "  '< unk >',\n",
              "  'that',\n",
              "  'grant',\n",
              "  'them',\n",
              "  'temporary',\n",
              "  '< unk >',\n",
              "  'on',\n",
              "  'the',\n",
              "  'battlefield',\n",
              "  ':',\n",
              "  'kurt',\n",
              "  'can',\n",
              "  'activate',\n",
              "  '\"',\n",
              "  'direct',\n",
              "  'command',\n",
              "  '\"',\n",
              "  'and',\n",
              "  'move',\n",
              "  'around',\n",
              "  'the',\n",
              "  'battlefield',\n",
              "  'without',\n",
              "  '< unk >',\n",
              "  'his',\n",
              "  'action',\n",
              "  'point',\n",
              "  'gauge',\n",
              "  ',',\n",
              "  'the',\n",
              "  'character',\n",
              "  '< unk >',\n",
              "  'can',\n",
              "  'shift',\n",
              "  'into',\n",
              "  'her',\n",
              "  '\"',\n",
              "  'valkyria',\n",
              "  'form',\n",
              "  '\"',\n",
              "  'and',\n",
              "  'become',\n",
              "  '< unk >',\n",
              "  ',',\n",
              "  'while',\n",
              "  'imca',\n",
              "  'can',\n",
              "  'target',\n",
              "  'multiple',\n",
              "  'enemy',\n",
              "  'units',\n",
              "  'with',\n",
              "  'her',\n",
              "  'heavy',\n",
              "  'weapon',\n",
              "  '.',\n",
              "  '<eos>',\n",
              "  'troops',\n",
              "  'are',\n",
              "  'divided',\n",
              "  'into',\n",
              "  'five',\n",
              "  'classes',\n",
              "  ':',\n",
              "  'scouts',\n",
              "  ',',\n",
              "  '< unk >',\n",
              "  ',',\n",
              "  'engineers',\n",
              "  ',',\n",
              "  '< unk >',\n",
              "  'and',\n",
              "  'armored',\n",
              "  'soldier',\n",
              "  '.',\n",
              "  '< unk >',\n",
              "  'can',\n",
              "  'switch',\n",
              "  'classes',\n",
              "  'by',\n",
              "  'changing',\n",
              "  'their',\n",
              "  'assigned',\n",
              "  'weapon',\n",
              "  '.',\n",
              "  'changing',\n",
              "  'class',\n",
              "  'does',\n",
              "  'not',\n",
              "  'greatly',\n",
              "  'affect',\n",
              "  'the',\n",
              "  'stats',\n",
              "  'gained',\n",
              "  'while',\n",
              "  'in',\n",
              "  'a',\n",
              "  'previous',\n",
              "  'class',\n",
              "  '.',\n",
              "  'with',\n",
              "  'victory',\n",
              "  'in',\n",
              "  'battle',\n",
              "  ',',\n",
              "  'experience',\n",
              "  'points',\n",
              "  'are',\n",
              "  'awarded',\n",
              "  'to',\n",
              "  'the',\n",
              "  'squad',\n",
              "  ',',\n",
              "  'which',\n",
              "  'are',\n",
              "  'distributed',\n",
              "  'into',\n",
              "  'five',\n",
              "  'different',\n",
              "  'attributes',\n",
              "  'shared',\n",
              "  'by',\n",
              "  'the',\n",
              "  'entire',\n",
              "  'squad',\n",
              "  ',',\n",
              "  'a',\n",
              "  'feature',\n",
              "  'differing',\n",
              "  'from',\n",
              "  'early',\n",
              "  'games',\n",
              "  \"'\",\n",
              "  'method',\n",
              "  'of',\n",
              "  'distributing',\n",
              "  'to',\n",
              "  'different',\n",
              "  'unit',\n",
              "  'types',\n",
              "  '.',\n",
              "  '<eos>']]"
            ]
          },
          "metadata": {
            "tags": []
          },
          "execution_count": 63
        }
      ]
    },
    {
      "cell_type": "code",
      "metadata": {
        "id": "tmQpntrmr2rn",
        "outputId": "44ad2c0f-289c-435e-c315-847045996711",
        "colab": {
          "base_uri": "https://localhost:8080/"
        }
      },
      "source": [
        "\n",
        "\n",
        "class XLnet_Input(torch.utils.data.Dataset):\n",
        "\n",
        "\n",
        "  def __init__(self, input_dat: list, word2index: dictionary, index2word: dictionary, segment_length: int, seq_length: int, ):\n",
        "\n",
        "    #\n",
        "    #dict\n",
        "    #context_encoding, segment_encoding\n",
        "    #positional encoding\n",
        "\n",
        "    \n",
        "    self.dat_shape = data.shape\n",
        "    self.root_dir = root_dir\n",
        "    self.segment_len = segment_len\n",
        "    self.word_dict = False\n",
        "    self.data = data\n",
        "\n",
        "    if do_shuffle:\n",
        "      shuffle()\n",
        "    \n",
        "    segmentation()\n",
        "\n",
        "  def segmentation(self):\n",
        "    self.segments = \n",
        "  \n",
        "  \n",
        "\n",
        "  def __getitem__(self, idx):\n",
        "    if torch.is_tensor(idx):\n",
        "      idx = idx.tolist()\n",
        "\n",
        "    doc_paths = os.path.join(self.root_dir, self.target_csv.iloc[idx, 0])\n",
        "    for doc_path in doc_paths\n",
        "    doc_file = open(doc_path, 'r')\n",
        "\n",
        "    lines = doc_file.readlines()\n",
        "\n",
        "    if word_dict:\n",
        "      for line in lines:\n",
        "        for \n",
        "\n",
        "    \n",
        "\n",
        "\n",
        "    doc_file.close()\n",
        "\n",
        "\n",
        "    f = open(\"C:/doit/새파일.txt\", 'r')\n",
        "\n",
        "\n",
        "      landmarks = self.landmarks_frame.iloc[idx, 1:]\n",
        "      landmarks = np.array([landmarks])\n",
        "      landmarks = landmarks.astype('float').reshape(-1, 2)\n",
        "      sample = {'image': image, 'landmarks': landmarks}\n",
        "\n",
        "    return sample\n",
        "\n",
        "  def __len__(self):\n",
        "    return len(self.input)"
      ],
      "execution_count": null,
      "outputs": [
        {
          "output_type": "execute_result",
          "data": {
            "text/plain": [
              "<torchtext.datasets.language_modeling.WikiText2 at 0x7fa62b68aeb8>"
            ]
          },
          "metadata": {
            "tags": []
          },
          "execution_count": 123
        }
      ]
    },
    {
      "cell_type": "code",
      "metadata": {
        "id": "hM1qrCdOq8NC",
        "outputId": "f99ac96a-eee5-4b37-d816-8c4290d169db",
        "colab": {
          "base_uri": "https://localhost:8080/",
          "height": 35
        }
      },
      "source": [
        "self.target_csv = pd.read_csv(traget_csv)\n",
        "    self.dat_shape = data.shape\n",
        "    self.root_dir = root_dir\n",
        "    self.segment_len = segment_len\n",
        "    self.word_dict = False\n",
        "    self.data = data\n",
        "\n",
        "    if do_shuffle:\n",
        "      shuffle()\n",
        "    \n",
        "    segmentation()\n",
        "\n",
        "  def segmentation(self):\n",
        "    self.segments = \n",
        "\n",
        "  def __getitem__(self, idx):\n",
        "    if torch.is_tensor(idx):\n",
        "      idx = idx.tolist()\n",
        "\n",
        "    doc_paths = os.path.join(self.root_dir, self.target_csv.iloc[idx, 0])\n",
        "    for doc_path in doc_paths\n",
        "    doc_file = open(doc_path, 'r')\n",
        "\n",
        "    lines = doc_file.readlines()\n",
        "\n",
        "    if word_dict:\n",
        "      for line in lines:\n",
        "        for \n",
        "\n",
        "    \n",
        "\n",
        "\n",
        "    doc_file.close()\n",
        "\n",
        "\n",
        "    f = open(\"C:/doit/새파일.txt\", 'r')\n",
        "\n",
        "\n",
        "      landmarks = self.landmarks_frame.iloc[idx, 1:]\n",
        "      landmarks = np.array([landmarks])\n",
        "      landmarks = landmarks.astype('float').reshape(-1, 2)\n",
        "      sample = {'image': image, 'landmarks': landmarks}\n",
        "\n",
        "    return sample\n",
        "\n",
        "  def __len__(self):\n",
        "    return len(self.data)"
      ],
      "execution_count": null,
      "outputs": [
        {
          "output_type": "execute_result",
          "data": {
            "application/vnd.google.colaboratory.intrinsic+json": {
              "type": "string"
            },
            "text/plain": [
              "'<eos>  ='"
            ]
          },
          "metadata": {
            "tags": []
          },
          "execution_count": 114
        }
      ]
    },
    {
      "cell_type": "code",
      "metadata": {
        "id": "tB1W23lzrcgC"
      },
      "source": [
        ""
      ],
      "execution_count": null,
      "outputs": []
    },
    {
      "cell_type": "code",
      "metadata": {
        "id": "Iv5OFVg2XxFH"
      },
      "source": [
        "aa = [tr_dat.examples[0].text][0][:1000]"
      ],
      "execution_count": null,
      "outputs": []
    },
    {
      "cell_type": "code",
      "metadata": {
        "id": "rOwJmxL-iare"
      },
      "source": [
        "result = []\n",
        "docs = (''.join(aa)).split('<eos>  =')\n",
        "for i in temp:\n",
        "  curr_doc = (''.join(i)).split('  ')\n",
        "  curr_doc = [i for i in curr_doc if i != '']\n",
        "  result.append(curr_doc)"
      ],
      "execution_count": null,
      "outputs": []
    },
    {
      "cell_type": "code",
      "metadata": {
        "id": "hMDNrB8iYRjg",
        "outputId": "3656384b-d915-4a69-d3f1-f7d9f982dbe4",
        "colab": {
          "base_uri": "https://localhost:8080/"
        }
      },
      "source": [
        "train_data[0]"
      ],
      "execution_count": null,
      "outputs": [
        {
          "output_type": "execute_result",
          "data": {
            "text/plain": [
              "tensor([    7,    29,  4031,  2997,   447,  3285,     4,   133,   444,    36,\n",
              "         3745,     3,   838,     6, 24073,  1484,     4,    25, 13603,    71])"
            ]
          },
          "metadata": {
            "tags": []
          },
          "execution_count": 149
        }
      ]
    },
    {
      "cell_type": "code",
      "metadata": {
        "id": "uKr0gTe1ZL5B",
        "outputId": "0421253f-8def-4ee5-bcac-c2a75ceefc04",
        "colab": {
          "base_uri": "https://localhost:8080/"
        }
      },
      "source": [
        "train_data[1]"
      ],
      "execution_count": null,
      "outputs": [
        {
          "output_type": "execute_result",
          "data": {
            "text/plain": [
              "tensor([    7,  1781,    20,   179, 15130,   765,   632,    59,   490,  6997,\n",
              "           27,     7,     6,     4,   480,  5051,    60,    15,     8,     9])"
            ]
          },
          "metadata": {
            "tags": []
          },
          "execution_count": 150
        }
      ]
    },
    {
      "cell_type": "code",
      "metadata": {
        "id": "qvk-s2rAYE3F",
        "outputId": "6d55e501-8c7b-4ff5-a964-c6664ea3c13b",
        "colab": {
          "base_uri": "https://localhost:8080/"
        }
      },
      "source": [
        ""
      ],
      "execution_count": null,
      "outputs": [
        {
          "output_type": "execute_result",
          "data": {
            "text/plain": [
              "<bound method Field.build_vocab of <torchtext.data.field.Field object at 0x7f1ca121d400>>"
            ]
          },
          "metadata": {
            "tags": []
          },
          "execution_count": 42
        }
      ]
    },
    {
      "cell_type": "code",
      "metadata": {
        "id": "Rt9bcA38QVly"
      },
      "source": [
        "en_textfield.build_vocab(tr_dat, min_freq = 2)"
      ],
      "execution_count": null,
      "outputs": []
    },
    {
      "cell_type": "code",
      "metadata": {
        "id": "usTUPO0SSHH0"
      },
      "source": [
        ""
      ],
      "execution_count": null,
      "outputs": []
    },
    {
      "cell_type": "code",
      "metadata": {
        "id": "1RRFhrAJuhLT"
      },
      "source": [
        "BATCH_SIZE = 128\n",
        "\n",
        "train_iterator, valid_iterator, test_iterator = BucketIterator.splits(\n",
        "    (tr_dat, val_dat, test_dat),\n",
        "    batch_size = BATCH_SIZE,\n",
        "    device = device)"
      ],
      "execution_count": null,
      "outputs": []
    },
    {
      "cell_type": "code",
      "metadata": {
        "id": "65YpZ6lRctRT",
        "outputId": "d35f9ac9-d473-41b0-a6d6-8a19fd8ebd2d",
        "colab": {
          "base_uri": "https://localhost:8080/"
        }
      },
      "source": [
        "bb"
      ],
      "execution_count": null,
      "outputs": [
        {
          "output_type": "execute_result",
          "data": {
            "text/plain": [
              "(tensor([[   9,   11, 3875,  ...,    4,    9,    9]]), tensor([2088628]))"
            ]
          },
          "metadata": {
            "tags": []
          },
          "execution_count": 91
        }
      ]
    },
    {
      "cell_type": "code",
      "metadata": {
        "id": "AwjRwKvDVZE6"
      },
      "source": [
        "import tensorflow_datasets as tfds"
      ],
      "execution_count": null,
      "outputs": []
    },
    {
      "cell_type": "code",
      "metadata": {
        "id": "kYvAhDzXVo4x"
      },
      "source": [
        "ds = tfds.load('glue', split='train', as_supervised=False, shuffle_files=False)"
      ],
      "execution_count": null,
      "outputs": []
    },
    {
      "cell_type": "code",
      "metadata": {
        "id": "PGywEswRWqYw",
        "outputId": "d6a25df3-bf9a-46fd-bbf6-4935f1c62d69",
        "colab": {
          "base_uri": "https://localhost:8080/",
          "height": 190
        }
      },
      "source": [
        "for i in ds:\n",
        "  print(i)"
      ],
      "execution_count": null,
      "outputs": [
        {
          "output_type": "error",
          "ename": "NameError",
          "evalue": "ignored",
          "traceback": [
            "\u001b[0;31m---------------------------------------------------------------------------\u001b[0m",
            "\u001b[0;31mNameError\u001b[0m                                 Traceback (most recent call last)",
            "\u001b[0;32m<ipython-input-11-cc2ab6e2e158>\u001b[0m in \u001b[0;36m<module>\u001b[0;34m()\u001b[0m\n\u001b[0;32m----> 1\u001b[0;31m \u001b[0;32mfor\u001b[0m \u001b[0mi\u001b[0m \u001b[0;32min\u001b[0m \u001b[0mds\u001b[0m\u001b[0;34m:\u001b[0m\u001b[0;34m\u001b[0m\u001b[0;34m\u001b[0m\u001b[0m\n\u001b[0m\u001b[1;32m      2\u001b[0m   \u001b[0mprint\u001b[0m\u001b[0;34m(\u001b[0m\u001b[0mi\u001b[0m\u001b[0;34m)\u001b[0m\u001b[0;34m\u001b[0m\u001b[0;34m\u001b[0m\u001b[0m\n",
            "\u001b[0;31mNameError\u001b[0m: name 'ds' is not defined"
          ]
        }
      ]
    },
    {
      "cell_type": "code",
      "metadata": {
        "id": "B1LN41CIVcxW",
        "outputId": "9891165d-ad56-4226-983b-94fd97eea533",
        "colab": {
          "base_uri": "https://localhost:8080/",
          "height": 180
        }
      },
      "source": [
        "aa.load()"
      ],
      "execution_count": null,
      "outputs": [
        {
          "output_type": "error",
          "ename": "AttributeError",
          "evalue": "ignored",
          "traceback": [
            "\u001b[0;31m---------------------------------------------------------------------------\u001b[0m",
            "\u001b[0;31mAttributeError\u001b[0m                            Traceback (most recent call last)",
            "\u001b[0;32m<ipython-input-30-603b00bbb490>\u001b[0m in \u001b[0;36m<module>\u001b[0;34m()\u001b[0m\n\u001b[0;32m----> 1\u001b[0;31m \u001b[0maa\u001b[0m\u001b[0;34m.\u001b[0m\u001b[0mload\u001b[0m\u001b[0;34m(\u001b[0m\u001b[0;34m)\u001b[0m\u001b[0;34m\u001b[0m\u001b[0;34m\u001b[0m\u001b[0m\n\u001b[0m",
            "\u001b[0;31mAttributeError\u001b[0m: type object 'Glue' has no attribute 'load'"
          ]
        }
      ]
    },
    {
      "cell_type": "code",
      "metadata": {
        "id": "eA54tjsGB73e",
        "outputId": "615a630b-f343-43e0-ef74-bdd72e2cf185",
        "colab": {
          "base_uri": "https://localhost:8080/",
          "height": 180
        }
      },
      "source": [
        "np.array([1,2,3]).shape()"
      ],
      "execution_count": null,
      "outputs": [
        {
          "output_type": "error",
          "ename": "TypeError",
          "evalue": "ignored",
          "traceback": [
            "\u001b[0;31m---------------------------------------------------------------------------\u001b[0m",
            "\u001b[0;31mTypeError\u001b[0m                                 Traceback (most recent call last)",
            "\u001b[0;32m<ipython-input-3-a69473d3b56f>\u001b[0m in \u001b[0;36m<module>\u001b[0;34m()\u001b[0m\n\u001b[0;32m----> 1\u001b[0;31m \u001b[0mnp\u001b[0m\u001b[0;34m.\u001b[0m\u001b[0marray\u001b[0m\u001b[0;34m(\u001b[0m\u001b[0;34m[\u001b[0m\u001b[0;36m1\u001b[0m\u001b[0;34m,\u001b[0m\u001b[0;36m2\u001b[0m\u001b[0;34m,\u001b[0m\u001b[0;36m3\u001b[0m\u001b[0;34m]\u001b[0m\u001b[0;34m)\u001b[0m\u001b[0;34m.\u001b[0m\u001b[0mshape\u001b[0m\u001b[0;34m(\u001b[0m\u001b[0;34m)\u001b[0m\u001b[0;34m\u001b[0m\u001b[0;34m\u001b[0m\u001b[0m\n\u001b[0m",
            "\u001b[0;31mTypeError\u001b[0m: 'tuple' object is not callable"
          ]
        }
      ]
    },
    {
      "cell_type": "code",
      "metadata": {
        "id": "DIFIb0Ta-9pt"
      },
      "source": [
        "ddd = aa(a = np.array([1,2,4,5]),b=np.array([1,2,4,5]))"
      ],
      "execution_count": null,
      "outputs": []
    },
    {
      "cell_type": "code",
      "metadata": {
        "id": "QZZQirEK_0-H"
      },
      "source": [
        "exec('b=ddd.a.sum()')"
      ],
      "execution_count": null,
      "outputs": []
    },
    {
      "cell_type": "code",
      "metadata": {
        "id": "norvzpPi_0Hm",
        "outputId": "94505df7-9556-490d-91cc-cee5ed60ee07",
        "colab": {
          "base_uri": "https://localhost:8080/",
          "height": 36
        }
      },
      "source": [
        "len(np.array([1,2,3]))"
      ],
      "execution_count": null,
      "outputs": [
        {
          "output_type": "execute_result",
          "data": {
            "text/plain": [
              "3"
            ]
          },
          "metadata": {
            "tags": []
          },
          "execution_count": 14
        }
      ]
    },
    {
      "cell_type": "code",
      "metadata": {
        "id": "KH8neGAK_MSV",
        "outputId": "59268c2b-827c-4152-aa90-5485f0d97107",
        "colab": {
          "base_uri": "https://localhost:8080/",
          "height": 36
        }
      },
      "source": [
        "sample_dict.get('aa')"
      ],
      "execution_count": null,
      "outputs": [
        {
          "output_type": "execute_result",
          "data": {
            "text/plain": [
              "12"
            ]
          },
          "metadata": {
            "tags": []
          },
          "execution_count": 25
        }
      ]
    },
    {
      "cell_type": "code",
      "metadata": {
        "id": "qisDhWYI_Agt"
      },
      "source": [
        "sample_dict = {'aa': 12, 'bb':13}"
      ],
      "execution_count": null,
      "outputs": []
    },
    {
      "cell_type": "code",
      "metadata": {
        "id": "b3gvdyAs-6mN",
        "outputId": "176553f5-8ace-4c86-abde-e8c0fea3275a",
        "colab": {
          "base_uri": "https://localhost:8080/",
          "height": 36
        }
      },
      "source": [
        "'list is list'.split(' ')"
      ],
      "execution_count": null,
      "outputs": [
        {
          "output_type": "execute_result",
          "data": {
            "text/plain": [
              "['list', 'is', 'list']"
            ]
          },
          "metadata": {
            "tags": []
          },
          "execution_count": 21
        }
      ]
    },
    {
      "cell_type": "code",
      "metadata": {
        "id": "ghK98IUDdOeV"
      },
      "source": [
        "dtype = torch.float\n",
        "device = torch.device(\"cpu\")"
      ],
      "execution_count": null,
      "outputs": []
    },
    {
      "cell_type": "code",
      "metadata": {
        "id": "4c2UthJ4dXb7"
      },
      "source": [
        "#활용된 잡지식\n",
        "\n",
        "#pytorch dataset 불러오기 \n",
        "#https://pytorch.org/text/datasets.html\n",
        "\n",
        "#자동으로 추가해야할 내용들\n",
        "#To avoid clutter, we omit the implementation details including multi-head attention, residual connection, layer normalization and position-wise feed-forward as used in Transformer(-XL). The details are included in Appendix A.2 for reference\n",
        "\n",
        "#데이터 로딩\n",
        "#data loading\n",
        "# https://tutorials.pytorch.kr/beginner/data_loading_tutorial.html\n",
        "\n",
        "#함수 오버라이딩 방법\n",
        "#super(MyModel, self).__init__()\n",
        "\n",
        "#einstein summation\n",
        "#https://rockt.github.io/2018/04/30/einsum\n",
        "\n",
        "#defining method with string\n",
        "#https://stackoverflow.com/questions/11553721/using-a-string-variable-as-a-variable-name\n",
        "\n",
        "#kwargs,args\n",
        "#https://brunch.co.kr/@princox/180"
      ],
      "execution_count": null,
      "outputs": []
    },
    {
      "cell_type": "code",
      "metadata": {
        "id": "nLLgpI56dZnK"
      },
      "source": [
        "# Two-stream attention cell\n",
        "#input : q_size, k_size, v_size, segment_index, attention_size, heads =8, **kwargs = {init_Qstream_q_LT_weight, init_Qstream_q_K_weight,init_Qstream_q_R_weight, init_Qstream_k_E_LT_weight, init_Qstream_k_R_LT_weight, init_Qstream_v_LT_weight,\n",
        "#                                                                            init_Qstream_segment_same_weight, init_Qstream_segment_notsame_weight, init_Qstream_segment_bias, init_Qstream_output_weight,\n",
        "#                                                                            init_Cstream_q_LT_weight, init_Cstream_q_K_weight,init_Cstream_q_R_weight, init_Cstream_k_E_LT_weight, init_Cstream_k_R_LT_weight, init_Cstream_v_LT_weight,\n",
        "#                                                                            init_Cstream_segment_same_weight, init_Cstream_segment_notsame_weight, init_Cstream_segment_bias, init_Cstream_output_weight}\n",
        "#\n",
        "\n",
        "#operation : q_LT, k_LT, v_LT, segmentation, permutation(optional), masking, relative_position_encoding, segment_encoding, cal_content_attention, cal_query_attention, memorise\n",
        "\n",
        "#properties : Qstream_q_LT_weight, Qstream_q_K_weight,Qstream_q_R_weight, Qstream_k_E_LT_weight, Qstream_k_R_LT_weight, Qstream_v_LT_weight,\n",
        "#             Qstream_segment_same_weight, Qstream_segment_notsame_weight, Qstream_segment_bias, Qstream_output_weight,\n",
        "#             Cstream_q_LT_weight, Cstream_q_K_weight,Cstream_q_R_weight, Cstream_k_E_LT_weight, Cstream_k_R_LT_weight, Cstream_v_LT_weight,\n",
        "#             Cstream_segment_same_weight, Cstream_segment_notsame_weight, Cstream_segment_bias, Cstream_output_weight content_attention, query_attention, content_memory, query_memory\n",
        "\n",
        "#output : Dq vector(s)\n",
        "\n"
      ],
      "execution_count": null,
      "outputs": []
    },
    {
      "cell_type": "code",
      "metadata": {
        "id": "P9SPAirbqb1a"
      },
      "source": [
        "class create_PLM_input(data_utils.Dataset):\n",
        "  def __init__(self, data, target_csv, word_dict = False, sep_by_lines = False, segment_len = False, do_shuffle=True):\n",
        "    super(create_PLM_input, self).__init__()\n",
        "    \n",
        "    "
      ],
      "execution_count": null,
      "outputs": []
    },
    {
      "cell_type": "code",
      "metadata": {
        "id": "4950byzWJBsJ"
      },
      "source": [
        "class create_PLM_input_inmemory(data_utils.Dataset):\n"
      ],
      "execution_count": null,
      "outputs": []
    },
    {
      "cell_type": "code",
      "metadata": {
        "id": "edo49bgpmrCX",
        "outputId": "e768e5b7-29bf-443e-b8cc-16209fbd144f",
        "colab": {
          "base_uri": "https://localhost:8080/",
          "height": 36
        }
      },
      "source": [
        "# https://tutorials.pytorch.kr/beginner/data_loading_tutorial.html"
      ],
      "execution_count": null,
      "outputs": [
        {
          "output_type": "stream",
          "text": [
            "perred\n"
          ],
          "name": "stdout"
        }
      ]
    },
    {
      "cell_type": "code",
      "metadata": {
        "id": "0V_hdr4sDpfz"
      },
      "source": [
        "a= torch.nn"
      ],
      "execution_count": null,
      "outputs": []
    },
    {
      "cell_type": "code",
      "metadata": {
        "id": "wS8PYlKKEmbS"
      },
      "source": [
        "def shuffle()\n",
        "\n",
        "def permutate()\n",
        "\n",
        "def rel_position_encoding():\n",
        "\n",
        "def masking():"
      ],
      "execution_count": null,
      "outputs": []
    },
    {
      "cell_type": "code",
      "metadata": {
        "id": "G0Fa0rBOEpbf"
      },
      "source": [
        ""
      ],
      "execution_count": null,
      "outputs": []
    },
    {
      "cell_type": "code",
      "metadata": {
        "id": "TQmmsxUrmp8q"
      },
      "source": [
        "if not a:\n",
        "  print(1)"
      ],
      "execution_count": null,
      "outputs": []
    },
    {
      "cell_type": "code",
      "metadata": {
        "id": "GHFApw4UPpar",
        "outputId": "6a74a673-3317-4367-fcb9-72efeaa73f9a",
        "colab": {
          "base_uri": "https://localhost:8080/",
          "height": 142
        }
      },
      "source": [
        "class Two_stream_attention(nn):\n",
        "  def __init__(self, q_size, k_size, v_size, attention_size = False, heads =8, **kwargs):\n",
        "    super(Two_stream_attention, self).__init__() \n",
        "      \n",
        "\n",
        "    self.segment_index = segment_index\n",
        "\n",
        "    #initialize params\n",
        "    self.initialize_params(self, q_size, k_size, v_size, attention_size, heads)\n",
        "\n",
        "  def initialize_params(self, q_size, k_size, v_size, attention_size, heads):\n",
        "    self.Qstream_q_LT_weight = nn.Linear()\n",
        "    self.Qstream_q_K_weight = \n",
        "    self.Qstream_q_R_weight = \n",
        "    \n",
        "    self.Qstream_k_E_LT_weight = \n",
        "    self.Qstream_k_R_LT_weight = \n",
        "    self.Qstream_v_LT_weight = \n",
        "    \n",
        "    self.Qstream_segment_same_weight = \n",
        "    self.Qstream_segment_notsame_weight = \n",
        "    self.Qstream_segment_bias = \n",
        "    \n",
        "    self.Qstream_output_weight = \n",
        "\n",
        "    self.Cstream_q_LT_weight = \n",
        "    self.Cstream_q_K_weight = \n",
        "    self.Cstream_q_R_weight = \n",
        "    \n",
        "    self.Cstream_k_E_LT_weight = \n",
        "    self.Cstream_k_R_LT_weight = \n",
        "    self.Cstream_v_LT_weight = \n",
        "\n",
        "    self.Cstream_segment_same_weight = \n",
        "    self.Cstream_segment_notsame_weight = \n",
        "    self.Cstream_segment_bias = \n",
        "    \n",
        "    self.Cstream_output_weight =\n",
        "\n",
        "  def set_params(self,**kwargs):\n",
        "    for i,j in kwargs.items():\n",
        "      setattr(self, i, j)\n",
        "      explicitly_defined_vars.append(i)\n",
        "\n",
        "  def forward(self, input, do_parm = False, rel_position = False):\n",
        "    \n",
        "    #record position\n",
        "    if not rel_position:\n",
        "      self.rel_position = rel_position_encoding(input)\n",
        "    else:\n",
        "      self.rel_position = rel_position\n",
        "\n",
        "    #permutation\n",
        "    if do_parm:\n",
        "      self.permutate()\n",
        "\n",
        "    #get position encoding\n",
        "\n",
        "    #cal\n",
        "  def backward(self,??): #클레스 정의하는 법 참조\n"
      ],
      "execution_count": null,
      "outputs": [
        {
          "output_type": "error",
          "ename": "SyntaxError",
          "evalue": "ignored",
          "traceback": [
            "\u001b[0;36m  File \u001b[0;32m\"<ipython-input-1-ad5720c06428>\"\u001b[0;36m, line \u001b[0;32m13\u001b[0m\n\u001b[0;31m    self.Qstream_q_K_weight =\u001b[0m\n\u001b[0m                              ^\u001b[0m\n\u001b[0;31mSyntaxError\u001b[0m\u001b[0;31m:\u001b[0m invalid syntax\n"
          ]
        }
      ]
    },
    {
      "cell_type": "code",
      "metadata": {
        "id": "laXkR4scazxZ"
      },
      "source": [
        "_#http://nlp.seas.harvard.edu/2018/04/03/attention.html"
      ],
      "execution_count": null,
      "outputs": []
    },
    {
      "cell_type": "code",
      "metadata": {
        "id": "bxPfane-X3-A"
      },
      "source": [
        "##Copyright 2013, Youngbin Jang, All rights reserved."
      ],
      "execution_count": null,
      "outputs": []
    }
  ]
}