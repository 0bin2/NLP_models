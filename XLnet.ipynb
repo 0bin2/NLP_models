{
  "nbformat": 4,
  "nbformat_minor": 0,
  "metadata": {
    "colab": {
      "name": "XL_net",
      "provenance": [],
      "collapsed_sections": [],
      "authorship_tag": "ABX9TyMaoOEfNhPKzytTJVJQ0Vih"
    },
    "kernelspec": {
      "name": "python3",
      "display_name": "Python 3"
    }
  },
  "cells": [
    {
      "cell_type": "code",
      "metadata": {
        "id": "0FBg14N-WRqy"
      },
      "source": [
        "import numpy as np\n",
        "import torch\n",
        "import torch.nn as nn\n",
        "import torch.nn.functional as F\n",
        "import torch.optim as optim\n",
        "import torch.utils.data as data_utils\n",
        "from torchtext.data.utils import get_tokenizer\n",
        "from torchtext.data import Field\n",
        "import pandas as pd\n",
        "import os"
      ],
      "execution_count": 1,
      "outputs": []
    },
    {
      "cell_type": "code",
      "metadata": {
        "id": "aTeEn1OvuFKG"
      },
      "source": [
        "import torchtext\n",
        "import io"
      ],
      "execution_count": 2,
      "outputs": []
    },
    {
      "cell_type": "code",
      "metadata": {
        "id": "ZXsNFpb_2nUE",
        "outputId": "78f1e01d-9bee-4154-9130-7457d8d488ff",
        "colab": {
          "base_uri": "https://localhost:8080/"
        }
      },
      "source": [
        "from google.colab import drive\n",
        "drive.mount(\"/content/drive\")"
      ],
      "execution_count": 3,
      "outputs": [
        {
          "output_type": "stream",
          "text": [
            "Mounted at /content/drive\n"
          ],
          "name": "stdout"
        }
      ]
    },
    {
      "cell_type": "code",
      "metadata": {
        "id": "36z8vshT7jVN"
      },
      "source": [
        "import os\n",
        "#os.listdir('drive/My Drive/datasets/wikitext-2')"
      ],
      "execution_count": 4,
      "outputs": []
    },
    {
      "cell_type": "code",
      "metadata": {
        "id": "DsXa80D3W5vn",
        "outputId": "4a2598c4-1f48-41af-e02a-558720a96f95",
        "colab": {
          "base_uri": "https://localhost:8080/"
        }
      },
      "source": [
        "#install package for subword tokenizer\n",
        "!pip install revtok"
      ],
      "execution_count": 5,
      "outputs": [
        {
          "output_type": "stream",
          "text": [
            "Collecting revtok\n",
            "  Downloading https://files.pythonhosted.org/packages/83/36/ceaee3090850fe4940361110cae71091b113c720e4ced21660758da6ced1/revtok-0.0.3-py3-none-any.whl\n",
            "Installing collected packages: revtok\n",
            "Successfully installed revtok-0.0.3\n"
          ],
          "name": "stdout"
        }
      ]
    },
    {
      "cell_type": "markdown",
      "metadata": {
        "id": "BxZiU1OptMLU"
      },
      "source": [
        "tokenizer"
      ]
    },
    {
      "cell_type": "code",
      "metadata": {
        "id": "l2PocX6mWuZn",
        "outputId": "4d8e19e1-e49e-4069-fd76-749d0f17c03b",
        "colab": {
          "base_uri": "https://localhost:8080/"
        }
      },
      "source": [
        "get_tokenizer(\"revtok\")"
      ],
      "execution_count": 6,
      "outputs": [
        {
          "output_type": "execute_result",
          "data": {
            "text/plain": [
              "<function revtok.tokenizer.tokenize>"
            ]
          },
          "metadata": {
            "tags": []
          },
          "execution_count": 6
        }
      ]
    },
    {
      "cell_type": "code",
      "metadata": {
        "id": "chaubPwz2vjL"
      },
      "source": [
        "dataset_base_path = 'drive/My Drive/datasets/'\n",
        "path = dataset_base_path + 'wikitext-2/'\n",
        "TEXT = torchtext.data.Field(tokenize = get_tokenizer(\"revtok\"),\n",
        "                            init_token = '<sos>',\n",
        "                            eos_token = '<eos>',\n",
        "                            lower = True)"
      ],
      "execution_count": 163,
      "outputs": []
    },
    {
      "cell_type": "code",
      "metadata": {
        "id": "gntnbNtxN3zF"
      },
      "source": [
        "dtype = torch.float\n",
        "device = torch.device(\"cpu\")"
      ],
      "execution_count": 91,
      "outputs": []
    },
    {
      "cell_type": "code",
      "metadata": {
        "id": "nmeKUbkw84SV"
      },
      "source": [
        "#split data with tokenizer\n",
        "tr_dat,val_dat,te_dat = torchtext.datasets.language_modeling.WikiText2.splits(TEXT)"
      ],
      "execution_count": 136,
      "outputs": []
    },
    {
      "cell_type": "code",
      "metadata": {
        "id": "ELSkmoEkSUeL",
        "outputId": "d3b876dc-7da1-4c9e-c16b-af16bf25c0b0",
        "colab": {
          "base_uri": "https://localhost:8080/"
        }
      },
      "source": [
        "[tr_dat.examples[0].text][0][:10]"
      ],
      "execution_count": 94,
      "outputs": [
        {
          "output_type": "execute_result",
          "data": {
            "text/plain": [
              "[' ',\n",
              " ' ',\n",
              " '<eos>',\n",
              " ' ',\n",
              " ' = ',\n",
              " ' valkyria ',\n",
              " ' chronicles ',\n",
              " ' iii ',\n",
              " ' = ',\n",
              " ' ']"
            ]
          },
          "metadata": {
            "tags": []
          },
          "execution_count": 94
        }
      ]
    },
    {
      "cell_type": "code",
      "metadata": {
        "id": "5n6QXjlrVet_",
        "outputId": "4fbc63d9-791d-4fc6-c546-d8bdb8158804",
        "colab": {
          "base_uri": "https://localhost:8080/"
        }
      },
      "source": [
        "[val_dat.examples[0].text][0][:10]"
      ],
      "execution_count": 11,
      "outputs": [
        {
          "output_type": "execute_result",
          "data": {
            "text/plain": [
              "[' ', ' ', '<eos>', ' ', ' = ', ' homarus ', ' gammarus ', ' = ', ' ', '<eos>']"
            ]
          },
          "metadata": {
            "tags": []
          },
          "execution_count": 11
        }
      ]
    },
    {
      "cell_type": "code",
      "metadata": {
        "id": "g01iBnn8Vh5w",
        "outputId": "250f321a-625b-43c2-cfda-6f31b060da5a",
        "colab": {
          "base_uri": "https://localhost:8080/"
        }
      },
      "source": [
        "[te_dat.examples[0].text][0][:10]"
      ],
      "execution_count": 12,
      "outputs": [
        {
          "output_type": "execute_result",
          "data": {
            "text/plain": [
              "[' ', ' ', '<eos>', ' ', ' = ', ' robert ', ' <', ' unk ', '> ', ' = ']"
            ]
          },
          "metadata": {
            "tags": []
          },
          "execution_count": 12
        }
      ]
    },
    {
      "cell_type": "code",
      "metadata": {
        "id": "gFqSs_Ftg7Fd"
      },
      "source": [
        "#seperating wikitext2 data to documents\n",
        "def sep_to_docs(data : list, doc_sep : str, token_sep : str) -> list:\n",
        "  \"\"\"returns documents from split input text chunk\n",
        "  \"\"\"\n",
        "  result = []\n",
        "  docs = (''.join(data)).split(doc_sep)\n",
        "  for i in docs:\n",
        "    curr_doc = (''.join(i)).split(token_sep)\n",
        "    curr_doc = [i for i in curr_doc if i != '']\n",
        "    if len(curr_doc) >= 1:\n",
        "      result.append(curr_doc)\n",
        "  return result"
      ],
      "execution_count": 137,
      "outputs": []
    },
    {
      "cell_type": "code",
      "metadata": {
        "id": "rilTTz4oroyR"
      },
      "source": [
        "tr_docs = sep_to_docs(data = [tr_dat.examples[0].text][0], doc_sep = '<eos>  =', token_sep = '  ')\n",
        "val_docs = sep_to_docs(data = [val_dat.examples[0].text][0], doc_sep = '<eos>  =', token_sep = '  ')\n",
        "te_docs = sep_to_docs(data = [te_dat.examples[0].text][0], doc_sep = '<eos>  =', token_sep = '  ')"
      ],
      "execution_count": 138,
      "outputs": []
    },
    {
      "cell_type": "code",
      "metadata": {
        "id": "z-Kl4dHcsH34",
        "outputId": "906406a3-955c-4bbf-a1ed-8ba4b9a40508",
        "colab": {
          "base_uri": "https://localhost:8080/"
        }
      },
      "source": [
        "print(len(tr_docs),len(val_docs),len(te_docs))"
      ],
      "execution_count": 141,
      "outputs": [
        {
          "output_type": "stream",
          "text": [
            "6211 620 708\n"
          ],
          "name": "stdout"
        }
      ]
    },
    {
      "cell_type": "code",
      "metadata": {
        "id": "rJUz8Uthzdar"
      },
      "source": [
        "TEXT.build_vocab(sum(tr_docs, []))"
      ],
      "execution_count": 169,
      "outputs": []
    },
    {
      "cell_type": "code",
      "metadata": {
        "id": "j8UK57dy1vvP"
      },
      "source": [
        ""
      ],
      "execution_count": null,
      "outputs": []
    },
    {
      "cell_type": "code",
      "metadata": {
        "id": "vI2D_wLXzrUT"
      },
      "source": [
        "TEXT.numericalize([tr_docs[1]])"
      ],
      "execution_count": null,
      "outputs": []
    },
    {
      "cell_type": "code",
      "metadata": {
        "id": "tmQpntrmr2rn",
        "outputId": "44ad2c0f-289c-435e-c315-847045996711",
        "colab": {
          "base_uri": "https://localhost:8080/"
        }
      },
      "source": [
        "\n",
        "\n",
        "class XLnet_Input(torch.utils.data.Dataset):\n",
        "\n",
        "\n",
        "  def __init__(self, input_dat: list, word2index: dictionary, index2word: dictionary, segment_length: int, seq_length: int, ):\n",
        "\n",
        "    #\n",
        "    #dict\n",
        "    #context_encoding, segment_encoding\n",
        "    #positional encoding\n",
        "\n",
        "    \n",
        "    self.dat_shape = data.shape\n",
        "    self.root_dir = root_dir\n",
        "    self.segment_len = segment_len\n",
        "    self.word_dict = False\n",
        "    self.data = data\n",
        "\n",
        "    if do_shuffle:\n",
        "      shuffle()\n",
        "    \n",
        "    segmentation()\n",
        "\n",
        "  def segmentation(self):\n",
        "    self.segments = \n",
        "  \n",
        "  \n",
        "\n",
        "  def __getitem__(self, idx):\n",
        "    if torch.is_tensor(idx):\n",
        "      idx = idx.tolist()\n",
        "\n",
        "    doc_paths = os.path.join(self.root_dir, self.target_csv.iloc[idx, 0])\n",
        "    for doc_path in doc_paths\n",
        "    doc_file = open(doc_path, 'r')\n",
        "\n",
        "    lines = doc_file.readlines()\n",
        "\n",
        "    if word_dict:\n",
        "      for line in lines:\n",
        "        for \n",
        "\n",
        "    \n",
        "\n",
        "\n",
        "    doc_file.close()\n",
        "\n",
        "\n",
        "    f = open(\"C:/doit/새파일.txt\", 'r')\n",
        "\n",
        "\n",
        "      landmarks = self.landmarks_frame.iloc[idx, 1:]\n",
        "      landmarks = np.array([landmarks])\n",
        "      landmarks = landmarks.astype('float').reshape(-1, 2)\n",
        "      sample = {'image': image, 'landmarks': landmarks}\n",
        "\n",
        "    return sample\n",
        "\n",
        "  def __len__(self):\n",
        "    return len(self.input)"
      ],
      "execution_count": 123,
      "outputs": [
        {
          "output_type": "execute_result",
          "data": {
            "text/plain": [
              "<torchtext.datasets.language_modeling.WikiText2 at 0x7fa62b68aeb8>"
            ]
          },
          "metadata": {
            "tags": []
          },
          "execution_count": 123
        }
      ]
    },
    {
      "cell_type": "code",
      "metadata": {
        "id": "hM1qrCdOq8NC",
        "outputId": "f99ac96a-eee5-4b37-d816-8c4290d169db",
        "colab": {
          "base_uri": "https://localhost:8080/",
          "height": 35
        }
      },
      "source": [
        "self.target_csv = pd.read_csv(traget_csv)\n",
        "    self.dat_shape = data.shape\n",
        "    self.root_dir = root_dir\n",
        "    self.segment_len = segment_len\n",
        "    self.word_dict = False\n",
        "    self.data = data\n",
        "\n",
        "    if do_shuffle:\n",
        "      shuffle()\n",
        "    \n",
        "    segmentation()\n",
        "\n",
        "  def segmentation(self):\n",
        "    self.segments = \n",
        "\n",
        "  def __getitem__(self, idx):\n",
        "    if torch.is_tensor(idx):\n",
        "      idx = idx.tolist()\n",
        "\n",
        "    doc_paths = os.path.join(self.root_dir, self.target_csv.iloc[idx, 0])\n",
        "    for doc_path in doc_paths\n",
        "    doc_file = open(doc_path, 'r')\n",
        "\n",
        "    lines = doc_file.readlines()\n",
        "\n",
        "    if word_dict:\n",
        "      for line in lines:\n",
        "        for \n",
        "\n",
        "    \n",
        "\n",
        "\n",
        "    doc_file.close()\n",
        "\n",
        "\n",
        "    f = open(\"C:/doit/새파일.txt\", 'r')\n",
        "\n",
        "\n",
        "      landmarks = self.landmarks_frame.iloc[idx, 1:]\n",
        "      landmarks = np.array([landmarks])\n",
        "      landmarks = landmarks.astype('float').reshape(-1, 2)\n",
        "      sample = {'image': image, 'landmarks': landmarks}\n",
        "\n",
        "    return sample\n",
        "\n",
        "  def __len__(self):\n",
        "    return len(self.data)"
      ],
      "execution_count": 114,
      "outputs": [
        {
          "output_type": "execute_result",
          "data": {
            "application/vnd.google.colaboratory.intrinsic+json": {
              "type": "string"
            },
            "text/plain": [
              "'<eos>  ='"
            ]
          },
          "metadata": {
            "tags": []
          },
          "execution_count": 114
        }
      ]
    },
    {
      "cell_type": "code",
      "metadata": {
        "id": "tB1W23lzrcgC"
      },
      "source": [
        ""
      ],
      "execution_count": null,
      "outputs": []
    },
    {
      "cell_type": "code",
      "metadata": {
        "id": "Iv5OFVg2XxFH"
      },
      "source": [
        "aa = [tr_dat.examples[0].text][0][:1000]"
      ],
      "execution_count": 74,
      "outputs": []
    },
    {
      "cell_type": "code",
      "metadata": {
        "id": "rOwJmxL-iare"
      },
      "source": [
        "result = []\n",
        "docs = (''.join(aa)).split('<eos>  =')\n",
        "for i in temp:\n",
        "  curr_doc = (''.join(i)).split('  ')\n",
        "  curr_doc = [i for i in curr_doc if i != '']\n",
        "  result.append(curr_doc)"
      ],
      "execution_count": 105,
      "outputs": []
    },
    {
      "cell_type": "code",
      "metadata": {
        "id": "hMDNrB8iYRjg",
        "outputId": "3656384b-d915-4a69-d3f1-f7d9f982dbe4",
        "colab": {
          "base_uri": "https://localhost:8080/"
        }
      },
      "source": [
        "train_data[0]"
      ],
      "execution_count": null,
      "outputs": [
        {
          "output_type": "execute_result",
          "data": {
            "text/plain": [
              "tensor([    7,    29,  4031,  2997,   447,  3285,     4,   133,   444,    36,\n",
              "         3745,     3,   838,     6, 24073,  1484,     4,    25, 13603,    71])"
            ]
          },
          "metadata": {
            "tags": []
          },
          "execution_count": 149
        }
      ]
    },
    {
      "cell_type": "code",
      "metadata": {
        "id": "uKr0gTe1ZL5B",
        "outputId": "0421253f-8def-4ee5-bcac-c2a75ceefc04",
        "colab": {
          "base_uri": "https://localhost:8080/"
        }
      },
      "source": [
        "train_data[1]"
      ],
      "execution_count": null,
      "outputs": [
        {
          "output_type": "execute_result",
          "data": {
            "text/plain": [
              "tensor([    7,  1781,    20,   179, 15130,   765,   632,    59,   490,  6997,\n",
              "           27,     7,     6,     4,   480,  5051,    60,    15,     8,     9])"
            ]
          },
          "metadata": {
            "tags": []
          },
          "execution_count": 150
        }
      ]
    },
    {
      "cell_type": "code",
      "metadata": {
        "id": "qvk-s2rAYE3F",
        "outputId": "6d55e501-8c7b-4ff5-a964-c6664ea3c13b",
        "colab": {
          "base_uri": "https://localhost:8080/"
        }
      },
      "source": [
        ""
      ],
      "execution_count": null,
      "outputs": [
        {
          "output_type": "execute_result",
          "data": {
            "text/plain": [
              "<bound method Field.build_vocab of <torchtext.data.field.Field object at 0x7f1ca121d400>>"
            ]
          },
          "metadata": {
            "tags": []
          },
          "execution_count": 42
        }
      ]
    },
    {
      "cell_type": "code",
      "metadata": {
        "id": "Rt9bcA38QVly"
      },
      "source": [
        "en_textfield.build_vocab(tr_dat, min_freq = 2)"
      ],
      "execution_count": null,
      "outputs": []
    },
    {
      "cell_type": "code",
      "metadata": {
        "id": "usTUPO0SSHH0"
      },
      "source": [
        ""
      ],
      "execution_count": null,
      "outputs": []
    },
    {
      "cell_type": "code",
      "metadata": {
        "id": "1RRFhrAJuhLT"
      },
      "source": [
        "BATCH_SIZE = 128\n",
        "\n",
        "train_iterator, valid_iterator, test_iterator = BucketIterator.splits(\n",
        "    (tr_dat, val_dat, test_dat),\n",
        "    batch_size = BATCH_SIZE,\n",
        "    device = device)"
      ],
      "execution_count": null,
      "outputs": []
    },
    {
      "cell_type": "code",
      "metadata": {
        "id": "65YpZ6lRctRT",
        "outputId": "d35f9ac9-d473-41b0-a6d6-8a19fd8ebd2d",
        "colab": {
          "base_uri": "https://localhost:8080/"
        }
      },
      "source": [
        "bb"
      ],
      "execution_count": null,
      "outputs": [
        {
          "output_type": "execute_result",
          "data": {
            "text/plain": [
              "(tensor([[   9,   11, 3875,  ...,    4,    9,    9]]), tensor([2088628]))"
            ]
          },
          "metadata": {
            "tags": []
          },
          "execution_count": 91
        }
      ]
    },
    {
      "cell_type": "code",
      "metadata": {
        "id": "AwjRwKvDVZE6"
      },
      "source": [
        "import tensorflow_datasets as tfds"
      ],
      "execution_count": null,
      "outputs": []
    },
    {
      "cell_type": "code",
      "metadata": {
        "id": "kYvAhDzXVo4x"
      },
      "source": [
        "ds = tfds.load('glue', split='train', as_supervised=False, shuffle_files=False)"
      ],
      "execution_count": null,
      "outputs": []
    },
    {
      "cell_type": "code",
      "metadata": {
        "id": "PGywEswRWqYw",
        "outputId": "d6a25df3-bf9a-46fd-bbf6-4935f1c62d69",
        "colab": {
          "base_uri": "https://localhost:8080/",
          "height": 190
        }
      },
      "source": [
        "for i in ds:\n",
        "  print(i)"
      ],
      "execution_count": null,
      "outputs": [
        {
          "output_type": "error",
          "ename": "NameError",
          "evalue": "ignored",
          "traceback": [
            "\u001b[0;31m---------------------------------------------------------------------------\u001b[0m",
            "\u001b[0;31mNameError\u001b[0m                                 Traceback (most recent call last)",
            "\u001b[0;32m<ipython-input-11-cc2ab6e2e158>\u001b[0m in \u001b[0;36m<module>\u001b[0;34m()\u001b[0m\n\u001b[0;32m----> 1\u001b[0;31m \u001b[0;32mfor\u001b[0m \u001b[0mi\u001b[0m \u001b[0;32min\u001b[0m \u001b[0mds\u001b[0m\u001b[0;34m:\u001b[0m\u001b[0;34m\u001b[0m\u001b[0;34m\u001b[0m\u001b[0m\n\u001b[0m\u001b[1;32m      2\u001b[0m   \u001b[0mprint\u001b[0m\u001b[0;34m(\u001b[0m\u001b[0mi\u001b[0m\u001b[0;34m)\u001b[0m\u001b[0;34m\u001b[0m\u001b[0;34m\u001b[0m\u001b[0m\n",
            "\u001b[0;31mNameError\u001b[0m: name 'ds' is not defined"
          ]
        }
      ]
    },
    {
      "cell_type": "code",
      "metadata": {
        "id": "B1LN41CIVcxW",
        "outputId": "9891165d-ad56-4226-983b-94fd97eea533",
        "colab": {
          "base_uri": "https://localhost:8080/",
          "height": 180
        }
      },
      "source": [
        "aa.load()"
      ],
      "execution_count": null,
      "outputs": [
        {
          "output_type": "error",
          "ename": "AttributeError",
          "evalue": "ignored",
          "traceback": [
            "\u001b[0;31m---------------------------------------------------------------------------\u001b[0m",
            "\u001b[0;31mAttributeError\u001b[0m                            Traceback (most recent call last)",
            "\u001b[0;32m<ipython-input-30-603b00bbb490>\u001b[0m in \u001b[0;36m<module>\u001b[0;34m()\u001b[0m\n\u001b[0;32m----> 1\u001b[0;31m \u001b[0maa\u001b[0m\u001b[0;34m.\u001b[0m\u001b[0mload\u001b[0m\u001b[0;34m(\u001b[0m\u001b[0;34m)\u001b[0m\u001b[0;34m\u001b[0m\u001b[0;34m\u001b[0m\u001b[0m\n\u001b[0m",
            "\u001b[0;31mAttributeError\u001b[0m: type object 'Glue' has no attribute 'load'"
          ]
        }
      ]
    },
    {
      "cell_type": "code",
      "metadata": {
        "id": "eA54tjsGB73e",
        "outputId": "615a630b-f343-43e0-ef74-bdd72e2cf185",
        "colab": {
          "base_uri": "https://localhost:8080/",
          "height": 180
        }
      },
      "source": [
        "np.array([1,2,3]).shape()"
      ],
      "execution_count": null,
      "outputs": [
        {
          "output_type": "error",
          "ename": "TypeError",
          "evalue": "ignored",
          "traceback": [
            "\u001b[0;31m---------------------------------------------------------------------------\u001b[0m",
            "\u001b[0;31mTypeError\u001b[0m                                 Traceback (most recent call last)",
            "\u001b[0;32m<ipython-input-3-a69473d3b56f>\u001b[0m in \u001b[0;36m<module>\u001b[0;34m()\u001b[0m\n\u001b[0;32m----> 1\u001b[0;31m \u001b[0mnp\u001b[0m\u001b[0;34m.\u001b[0m\u001b[0marray\u001b[0m\u001b[0;34m(\u001b[0m\u001b[0;34m[\u001b[0m\u001b[0;36m1\u001b[0m\u001b[0;34m,\u001b[0m\u001b[0;36m2\u001b[0m\u001b[0;34m,\u001b[0m\u001b[0;36m3\u001b[0m\u001b[0;34m]\u001b[0m\u001b[0;34m)\u001b[0m\u001b[0;34m.\u001b[0m\u001b[0mshape\u001b[0m\u001b[0;34m(\u001b[0m\u001b[0;34m)\u001b[0m\u001b[0;34m\u001b[0m\u001b[0;34m\u001b[0m\u001b[0m\n\u001b[0m",
            "\u001b[0;31mTypeError\u001b[0m: 'tuple' object is not callable"
          ]
        }
      ]
    },
    {
      "cell_type": "code",
      "metadata": {
        "id": "DIFIb0Ta-9pt"
      },
      "source": [
        "ddd = aa(a = np.array([1,2,4,5]),b=np.array([1,2,4,5]))"
      ],
      "execution_count": null,
      "outputs": []
    },
    {
      "cell_type": "code",
      "metadata": {
        "id": "QZZQirEK_0-H"
      },
      "source": [
        "exec('b=ddd.a.sum()')"
      ],
      "execution_count": null,
      "outputs": []
    },
    {
      "cell_type": "code",
      "metadata": {
        "id": "norvzpPi_0Hm",
        "outputId": "94505df7-9556-490d-91cc-cee5ed60ee07",
        "colab": {
          "base_uri": "https://localhost:8080/",
          "height": 36
        }
      },
      "source": [
        "len(np.array([1,2,3]))"
      ],
      "execution_count": null,
      "outputs": [
        {
          "output_type": "execute_result",
          "data": {
            "text/plain": [
              "3"
            ]
          },
          "metadata": {
            "tags": []
          },
          "execution_count": 14
        }
      ]
    },
    {
      "cell_type": "code",
      "metadata": {
        "id": "KH8neGAK_MSV",
        "outputId": "59268c2b-827c-4152-aa90-5485f0d97107",
        "colab": {
          "base_uri": "https://localhost:8080/",
          "height": 36
        }
      },
      "source": [
        "sample_dict.get('aa')"
      ],
      "execution_count": null,
      "outputs": [
        {
          "output_type": "execute_result",
          "data": {
            "text/plain": [
              "12"
            ]
          },
          "metadata": {
            "tags": []
          },
          "execution_count": 25
        }
      ]
    },
    {
      "cell_type": "code",
      "metadata": {
        "id": "qisDhWYI_Agt"
      },
      "source": [
        "sample_dict = {'aa': 12, 'bb':13}"
      ],
      "execution_count": null,
      "outputs": []
    },
    {
      "cell_type": "code",
      "metadata": {
        "id": "b3gvdyAs-6mN",
        "outputId": "176553f5-8ace-4c86-abde-e8c0fea3275a",
        "colab": {
          "base_uri": "https://localhost:8080/",
          "height": 36
        }
      },
      "source": [
        "'list is list'.split(' ')"
      ],
      "execution_count": null,
      "outputs": [
        {
          "output_type": "execute_result",
          "data": {
            "text/plain": [
              "['list', 'is', 'list']"
            ]
          },
          "metadata": {
            "tags": []
          },
          "execution_count": 21
        }
      ]
    },
    {
      "cell_type": "code",
      "metadata": {
        "id": "ghK98IUDdOeV"
      },
      "source": [
        "dtype = torch.float\n",
        "device = torch.device(\"cpu\")"
      ],
      "execution_count": null,
      "outputs": []
    },
    {
      "cell_type": "code",
      "metadata": {
        "id": "4c2UthJ4dXb7"
      },
      "source": [
        "#활용된 잡지식\n",
        "\n",
        "#pytorch dataset 불러오기 \n",
        "#https://pytorch.org/text/datasets.html\n",
        "\n",
        "#자동으로 추가해야할 내용들\n",
        "#To avoid clutter, we omit the implementation details including multi-head attention, residual connection, layer normalization and position-wise feed-forward as used in Transformer(-XL). The details are included in Appendix A.2 for reference\n",
        "\n",
        "#데이터 로딩\n",
        "#data loading\n",
        "# https://tutorials.pytorch.kr/beginner/data_loading_tutorial.html\n",
        "\n",
        "#함수 오버라이딩 방법\n",
        "#super(MyModel, self).__init__()\n",
        "\n",
        "#einstein summation\n",
        "#https://rockt.github.io/2018/04/30/einsum\n",
        "\n",
        "#defining method with string\n",
        "#https://stackoverflow.com/questions/11553721/using-a-string-variable-as-a-variable-name\n",
        "\n",
        "#kwargs,args\n",
        "#https://brunch.co.kr/@princox/180"
      ],
      "execution_count": null,
      "outputs": []
    },
    {
      "cell_type": "code",
      "metadata": {
        "id": "nLLgpI56dZnK"
      },
      "source": [
        "# Two-stream attention cell\n",
        "#input : q_size, k_size, v_size, segment_index, attention_size, heads =8, **kwargs = {init_Qstream_q_LT_weight, init_Qstream_q_K_weight,init_Qstream_q_R_weight, init_Qstream_k_E_LT_weight, init_Qstream_k_R_LT_weight, init_Qstream_v_LT_weight,\n",
        "#                                                                            init_Qstream_segment_same_weight, init_Qstream_segment_notsame_weight, init_Qstream_segment_bias, init_Qstream_output_weight,\n",
        "#                                                                            init_Cstream_q_LT_weight, init_Cstream_q_K_weight,init_Cstream_q_R_weight, init_Cstream_k_E_LT_weight, init_Cstream_k_R_LT_weight, init_Cstream_v_LT_weight,\n",
        "#                                                                            init_Cstream_segment_same_weight, init_Cstream_segment_notsame_weight, init_Cstream_segment_bias, init_Cstream_output_weight}\n",
        "#\n",
        "\n",
        "#operation : q_LT, k_LT, v_LT, segmentation, permutation(optional), masking, relative_position_encoding, segment_encoding, cal_content_attention, cal_query_attention, memorise\n",
        "\n",
        "#properties : Qstream_q_LT_weight, Qstream_q_K_weight,Qstream_q_R_weight, Qstream_k_E_LT_weight, Qstream_k_R_LT_weight, Qstream_v_LT_weight,\n",
        "#             Qstream_segment_same_weight, Qstream_segment_notsame_weight, Qstream_segment_bias, Qstream_output_weight,\n",
        "#             Cstream_q_LT_weight, Cstream_q_K_weight,Cstream_q_R_weight, Cstream_k_E_LT_weight, Cstream_k_R_LT_weight, Cstream_v_LT_weight,\n",
        "#             Cstream_segment_same_weight, Cstream_segment_notsame_weight, Cstream_segment_bias, Cstream_output_weight content_attention, query_attention, content_memory, query_memory\n",
        "\n",
        "#output : Dq vector(s)\n",
        "\n"
      ],
      "execution_count": null,
      "outputs": []
    },
    {
      "cell_type": "code",
      "metadata": {
        "id": "P9SPAirbqb1a"
      },
      "source": [
        "class create_PLM_input(data_utils.Dataset):\n",
        "  def __init__(self, data, target_csv, word_dict = False, sep_by_lines = False, segment_len = False, do_shuffle=True):\n",
        "    super(create_PLM_input, self).__init__()\n",
        "    \n",
        "    "
      ],
      "execution_count": null,
      "outputs": []
    },
    {
      "cell_type": "code",
      "metadata": {
        "id": "4950byzWJBsJ"
      },
      "source": [
        "class create_PLM_input_inmemory(data_utils.Dataset):\n"
      ],
      "execution_count": null,
      "outputs": []
    },
    {
      "cell_type": "code",
      "metadata": {
        "id": "edo49bgpmrCX",
        "outputId": "e768e5b7-29bf-443e-b8cc-16209fbd144f",
        "colab": {
          "base_uri": "https://localhost:8080/",
          "height": 36
        }
      },
      "source": [
        "# https://tutorials.pytorch.kr/beginner/data_loading_tutorial.html"
      ],
      "execution_count": null,
      "outputs": [
        {
          "output_type": "stream",
          "text": [
            "perred\n"
          ],
          "name": "stdout"
        }
      ]
    },
    {
      "cell_type": "code",
      "metadata": {
        "id": "0V_hdr4sDpfz"
      },
      "source": [
        "a= torch.nn"
      ],
      "execution_count": null,
      "outputs": []
    },
    {
      "cell_type": "code",
      "metadata": {
        "id": "wS8PYlKKEmbS"
      },
      "source": [
        "def shuffle()\n",
        "\n",
        "def permutate()\n",
        "\n",
        "def rel_position_encoding():\n",
        "\n",
        "def masking():"
      ],
      "execution_count": null,
      "outputs": []
    },
    {
      "cell_type": "code",
      "metadata": {
        "id": "G0Fa0rBOEpbf"
      },
      "source": [
        ""
      ],
      "execution_count": null,
      "outputs": []
    },
    {
      "cell_type": "code",
      "metadata": {
        "id": "TQmmsxUrmp8q"
      },
      "source": [
        "if not a:\n",
        "  print(1)"
      ],
      "execution_count": null,
      "outputs": []
    },
    {
      "cell_type": "code",
      "metadata": {
        "id": "GHFApw4UPpar",
        "outputId": "6a74a673-3317-4367-fcb9-72efeaa73f9a",
        "colab": {
          "base_uri": "https://localhost:8080/",
          "height": 142
        }
      },
      "source": [
        "class Two_stream_attention(nn):\n",
        "  def __init__(self, q_size, k_size, v_size, attention_size = False, heads =8, **kwargs):\n",
        "    super(Two_stream_attention, self).__init__() \n",
        "      \n",
        "\n",
        "    self.segment_index = segment_index\n",
        "\n",
        "    #initialize params\n",
        "    self.initialize_params(self, q_size, k_size, v_size, attention_size, heads)\n",
        "\n",
        "  def initialize_params(self, q_size, k_size, v_size, attention_size, heads):\n",
        "    self.Qstream_q_LT_weight = nn.Linear()\n",
        "    self.Qstream_q_K_weight = \n",
        "    self.Qstream_q_R_weight = \n",
        "    \n",
        "    self.Qstream_k_E_LT_weight = \n",
        "    self.Qstream_k_R_LT_weight = \n",
        "    self.Qstream_v_LT_weight = \n",
        "    \n",
        "    self.Qstream_segment_same_weight = \n",
        "    self.Qstream_segment_notsame_weight = \n",
        "    self.Qstream_segment_bias = \n",
        "    \n",
        "    self.Qstream_output_weight = \n",
        "\n",
        "    self.Cstream_q_LT_weight = \n",
        "    self.Cstream_q_K_weight = \n",
        "    self.Cstream_q_R_weight = \n",
        "    \n",
        "    self.Cstream_k_E_LT_weight = \n",
        "    self.Cstream_k_R_LT_weight = \n",
        "    self.Cstream_v_LT_weight = \n",
        "\n",
        "    self.Cstream_segment_same_weight = \n",
        "    self.Cstream_segment_notsame_weight = \n",
        "    self.Cstream_segment_bias = \n",
        "    \n",
        "    self.Cstream_output_weight =\n",
        "\n",
        "  def set_params(self,**kwargs):\n",
        "    for i,j in kwargs.items():\n",
        "      setattr(self, i, j)\n",
        "      explicitly_defined_vars.append(i)\n",
        "\n",
        "  def forward(self, input, do_parm = False, rel_position = False):\n",
        "    \n",
        "    #record position\n",
        "    if not rel_position:\n",
        "      self.rel_position = rel_position_encoding(input)\n",
        "    else:\n",
        "      self.rel_position = rel_position\n",
        "\n",
        "    #permutation\n",
        "    if do_parm:\n",
        "      self.permutate()\n",
        "\n",
        "    #get position encoding\n",
        "\n",
        "    #cal\n",
        "  def backward(self,??): #클레스 정의하는 법 참조\n"
      ],
      "execution_count": null,
      "outputs": [
        {
          "output_type": "error",
          "ename": "SyntaxError",
          "evalue": "ignored",
          "traceback": [
            "\u001b[0;36m  File \u001b[0;32m\"<ipython-input-1-ad5720c06428>\"\u001b[0;36m, line \u001b[0;32m13\u001b[0m\n\u001b[0;31m    self.Qstream_q_K_weight =\u001b[0m\n\u001b[0m                              ^\u001b[0m\n\u001b[0;31mSyntaxError\u001b[0m\u001b[0;31m:\u001b[0m invalid syntax\n"
          ]
        }
      ]
    },
    {
      "cell_type": "code",
      "metadata": {
        "id": "laXkR4scazxZ"
      },
      "source": [
        "_#http://nlp.seas.harvard.edu/2018/04/03/attention.html"
      ],
      "execution_count": null,
      "outputs": []
    },
    {
      "cell_type": "code",
      "metadata": {
        "id": "bxPfane-X3-A"
      },
      "source": [
        "##Copyright 2013, Youngbin Jang, All rights reserved."
      ],
      "execution_count": null,
      "outputs": []
    }
  ]
}